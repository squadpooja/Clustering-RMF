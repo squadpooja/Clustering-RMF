{
 "cells": [
  {
   "cell_type": "markdown",
   "id": "1fed6a3a",
   "metadata": {},
   "source": [
    "Create a model which assigns a customer to a certain customer category based on the total value of orders they’ve placed. This would let the company target the most valuable customers with certain offers which promote a higher spend."
   ]
  },
  {
   "cell_type": "markdown",
   "id": "8178a487",
   "metadata": {},
   "source": [
    "This is an unsupervised machine learning model. We have a dataset which does not have labelled data or target variable."
   ]
  },
  {
   "cell_type": "code",
   "execution_count": 37,
   "id": "b6732b52",
   "metadata": {},
   "outputs": [],
   "source": [
    "##### Importing Relevant Libraries ######\n",
    "#########################################\n",
    "\n",
    "import os\n",
    "import numpy as np\n",
    "import pandas as pd\n",
    "import seaborn as sns\n",
    "import matplotlib.pyplot as plt\n",
    "import warnings\n",
    "warnings.filterwarnings(\"ignore\")\n",
    "%matplotlib inline\n",
    "from sklearn.metrics import roc_auc_score, plot_roc_curve, confusion_matrix,f1_score ## model evaluation metrics\n",
    "from sklearn.preprocessing import StandardScaler ## (x-mean(variable))/standard_deviation(variable)\n",
    "from sklearn.model_selection import StratifiedShuffleSplit ### datasplitting\n",
    " \n",
    "from sklearn.model_selection import GridSearchCV          ### hyperparameter finding\n"
   ]
  },
  {
   "cell_type": "code",
   "execution_count": 38,
   "id": "197a5790",
   "metadata": {},
   "outputs": [],
   "source": [
    "df=pd.read_csv('data1.csv',encoding='latin1')"
   ]
  },
  {
   "cell_type": "code",
   "execution_count": 39,
   "id": "715098b0",
   "metadata": {},
   "outputs": [
    {
     "data": {
      "text/html": [
       "<div>\n",
       "<style scoped>\n",
       "    .dataframe tbody tr th:only-of-type {\n",
       "        vertical-align: middle;\n",
       "    }\n",
       "\n",
       "    .dataframe tbody tr th {\n",
       "        vertical-align: top;\n",
       "    }\n",
       "\n",
       "    .dataframe thead th {\n",
       "        text-align: right;\n",
       "    }\n",
       "</style>\n",
       "<table border=\"1\" class=\"dataframe\">\n",
       "  <thead>\n",
       "    <tr style=\"text-align: right;\">\n",
       "      <th></th>\n",
       "      <th>InvoiceNo</th>\n",
       "      <th>StockCode</th>\n",
       "      <th>Description</th>\n",
       "      <th>Quantity</th>\n",
       "      <th>InvoiceDate</th>\n",
       "      <th>UnitPrice</th>\n",
       "      <th>CustomerID</th>\n",
       "      <th>Country</th>\n",
       "    </tr>\n",
       "  </thead>\n",
       "  <tbody>\n",
       "    <tr>\n",
       "      <th>0</th>\n",
       "      <td>536365</td>\n",
       "      <td>85123A</td>\n",
       "      <td>WHITE HANGING HEART T-LIGHT HOLDER</td>\n",
       "      <td>6</td>\n",
       "      <td>12-01-2010 08:26</td>\n",
       "      <td>2.55</td>\n",
       "      <td>17850.0</td>\n",
       "      <td>United Kingdom</td>\n",
       "    </tr>\n",
       "    <tr>\n",
       "      <th>1</th>\n",
       "      <td>536365</td>\n",
       "      <td>71053</td>\n",
       "      <td>WHITE METAL LANTERN</td>\n",
       "      <td>6</td>\n",
       "      <td>12-01-2010 08:26</td>\n",
       "      <td>3.39</td>\n",
       "      <td>17850.0</td>\n",
       "      <td>United Kingdom</td>\n",
       "    </tr>\n",
       "    <tr>\n",
       "      <th>2</th>\n",
       "      <td>536365</td>\n",
       "      <td>84406B</td>\n",
       "      <td>CREAM CUPID HEARTS COAT HANGER</td>\n",
       "      <td>8</td>\n",
       "      <td>12-01-2010 08:26</td>\n",
       "      <td>2.75</td>\n",
       "      <td>17850.0</td>\n",
       "      <td>United Kingdom</td>\n",
       "    </tr>\n",
       "    <tr>\n",
       "      <th>3</th>\n",
       "      <td>536365</td>\n",
       "      <td>84029G</td>\n",
       "      <td>KNITTED UNION FLAG HOT WATER BOTTLE</td>\n",
       "      <td>6</td>\n",
       "      <td>12-01-2010 08:26</td>\n",
       "      <td>3.39</td>\n",
       "      <td>17850.0</td>\n",
       "      <td>United Kingdom</td>\n",
       "    </tr>\n",
       "    <tr>\n",
       "      <th>4</th>\n",
       "      <td>536365</td>\n",
       "      <td>84029E</td>\n",
       "      <td>RED WOOLLY HOTTIE WHITE HEART.</td>\n",
       "      <td>6</td>\n",
       "      <td>12-01-2010 08:26</td>\n",
       "      <td>3.39</td>\n",
       "      <td>17850.0</td>\n",
       "      <td>United Kingdom</td>\n",
       "    </tr>\n",
       "  </tbody>\n",
       "</table>\n",
       "</div>"
      ],
      "text/plain": [
       "  InvoiceNo StockCode                          Description  Quantity  \\\n",
       "0    536365    85123A   WHITE HANGING HEART T-LIGHT HOLDER         6   \n",
       "1    536365     71053                  WHITE METAL LANTERN         6   \n",
       "2    536365    84406B       CREAM CUPID HEARTS COAT HANGER         8   \n",
       "3    536365    84029G  KNITTED UNION FLAG HOT WATER BOTTLE         6   \n",
       "4    536365    84029E       RED WOOLLY HOTTIE WHITE HEART.         6   \n",
       "\n",
       "        InvoiceDate  UnitPrice  CustomerID         Country  \n",
       "0  12-01-2010 08:26       2.55     17850.0  United Kingdom  \n",
       "1  12-01-2010 08:26       3.39     17850.0  United Kingdom  \n",
       "2  12-01-2010 08:26       2.75     17850.0  United Kingdom  \n",
       "3  12-01-2010 08:26       3.39     17850.0  United Kingdom  \n",
       "4  12-01-2010 08:26       3.39     17850.0  United Kingdom  "
      ]
     },
     "execution_count": 39,
     "metadata": {},
     "output_type": "execute_result"
    }
   ],
   "source": [
    "df.head()"
   ]
  },
  {
   "cell_type": "code",
   "execution_count": 40,
   "id": "0cb90c1f",
   "metadata": {},
   "outputs": [
    {
     "data": {
      "text/plain": [
       "(541909, 8)"
      ]
     },
     "execution_count": 40,
     "metadata": {},
     "output_type": "execute_result"
    }
   ],
   "source": [
    "df.shape"
   ]
  },
  {
   "cell_type": "code",
   "execution_count": 41,
   "id": "1a2d83b3",
   "metadata": {},
   "outputs": [],
   "source": [
    "df['Price']=df['Quantity']*df['UnitPrice'] #Making a new column Price which shows the value of total products purchased"
   ]
  },
  {
   "cell_type": "code",
   "execution_count": 42,
   "id": "95cfd36f",
   "metadata": {},
   "outputs": [
    {
     "data": {
      "text/html": [
       "<div>\n",
       "<style scoped>\n",
       "    .dataframe tbody tr th:only-of-type {\n",
       "        vertical-align: middle;\n",
       "    }\n",
       "\n",
       "    .dataframe tbody tr th {\n",
       "        vertical-align: top;\n",
       "    }\n",
       "\n",
       "    .dataframe thead th {\n",
       "        text-align: right;\n",
       "    }\n",
       "</style>\n",
       "<table border=\"1\" class=\"dataframe\">\n",
       "  <thead>\n",
       "    <tr style=\"text-align: right;\">\n",
       "      <th></th>\n",
       "      <th>InvoiceNo</th>\n",
       "      <th>StockCode</th>\n",
       "      <th>Description</th>\n",
       "      <th>Quantity</th>\n",
       "      <th>InvoiceDate</th>\n",
       "      <th>UnitPrice</th>\n",
       "      <th>CustomerID</th>\n",
       "      <th>Country</th>\n",
       "      <th>Price</th>\n",
       "    </tr>\n",
       "  </thead>\n",
       "  <tbody>\n",
       "    <tr>\n",
       "      <th>0</th>\n",
       "      <td>536365</td>\n",
       "      <td>85123A</td>\n",
       "      <td>WHITE HANGING HEART T-LIGHT HOLDER</td>\n",
       "      <td>6</td>\n",
       "      <td>12-01-2010 08:26</td>\n",
       "      <td>2.55</td>\n",
       "      <td>17850.0</td>\n",
       "      <td>United Kingdom</td>\n",
       "      <td>15.30</td>\n",
       "    </tr>\n",
       "    <tr>\n",
       "      <th>1</th>\n",
       "      <td>536365</td>\n",
       "      <td>71053</td>\n",
       "      <td>WHITE METAL LANTERN</td>\n",
       "      <td>6</td>\n",
       "      <td>12-01-2010 08:26</td>\n",
       "      <td>3.39</td>\n",
       "      <td>17850.0</td>\n",
       "      <td>United Kingdom</td>\n",
       "      <td>20.34</td>\n",
       "    </tr>\n",
       "    <tr>\n",
       "      <th>2</th>\n",
       "      <td>536365</td>\n",
       "      <td>84406B</td>\n",
       "      <td>CREAM CUPID HEARTS COAT HANGER</td>\n",
       "      <td>8</td>\n",
       "      <td>12-01-2010 08:26</td>\n",
       "      <td>2.75</td>\n",
       "      <td>17850.0</td>\n",
       "      <td>United Kingdom</td>\n",
       "      <td>22.00</td>\n",
       "    </tr>\n",
       "    <tr>\n",
       "      <th>3</th>\n",
       "      <td>536365</td>\n",
       "      <td>84029G</td>\n",
       "      <td>KNITTED UNION FLAG HOT WATER BOTTLE</td>\n",
       "      <td>6</td>\n",
       "      <td>12-01-2010 08:26</td>\n",
       "      <td>3.39</td>\n",
       "      <td>17850.0</td>\n",
       "      <td>United Kingdom</td>\n",
       "      <td>20.34</td>\n",
       "    </tr>\n",
       "    <tr>\n",
       "      <th>4</th>\n",
       "      <td>536365</td>\n",
       "      <td>84029E</td>\n",
       "      <td>RED WOOLLY HOTTIE WHITE HEART.</td>\n",
       "      <td>6</td>\n",
       "      <td>12-01-2010 08:26</td>\n",
       "      <td>3.39</td>\n",
       "      <td>17850.0</td>\n",
       "      <td>United Kingdom</td>\n",
       "      <td>20.34</td>\n",
       "    </tr>\n",
       "  </tbody>\n",
       "</table>\n",
       "</div>"
      ],
      "text/plain": [
       "  InvoiceNo StockCode                          Description  Quantity  \\\n",
       "0    536365    85123A   WHITE HANGING HEART T-LIGHT HOLDER         6   \n",
       "1    536365     71053                  WHITE METAL LANTERN         6   \n",
       "2    536365    84406B       CREAM CUPID HEARTS COAT HANGER         8   \n",
       "3    536365    84029G  KNITTED UNION FLAG HOT WATER BOTTLE         6   \n",
       "4    536365    84029E       RED WOOLLY HOTTIE WHITE HEART.         6   \n",
       "\n",
       "        InvoiceDate  UnitPrice  CustomerID         Country  Price  \n",
       "0  12-01-2010 08:26       2.55     17850.0  United Kingdom  15.30  \n",
       "1  12-01-2010 08:26       3.39     17850.0  United Kingdom  20.34  \n",
       "2  12-01-2010 08:26       2.75     17850.0  United Kingdom  22.00  \n",
       "3  12-01-2010 08:26       3.39     17850.0  United Kingdom  20.34  \n",
       "4  12-01-2010 08:26       3.39     17850.0  United Kingdom  20.34  "
      ]
     },
     "execution_count": 42,
     "metadata": {},
     "output_type": "execute_result"
    }
   ],
   "source": [
    "df.head()"
   ]
  },
  {
   "cell_type": "markdown",
   "id": "bc2d7742",
   "metadata": {},
   "source": [
    "We will use the RMF approach that is the recency, monetary and frquency approach to assign customers to different categories\n",
    "Recency - Using date to find out how recently the customers have purchased the product.\n",
    "Monetary - Using total price to find out how much total money they have spent\n",
    "Frequency - Using CustomerID to find out   how frequently customers purchase the product"
   ]
  },
  {
   "cell_type": "code",
   "execution_count": 44,
   "id": "f9afe3cf",
   "metadata": {},
   "outputs": [
    {
     "name": "stdout",
     "output_type": "stream",
     "text": [
      "<class 'pandas.core.frame.DataFrame'>\n",
      "RangeIndex: 541909 entries, 0 to 541908\n",
      "Data columns (total 9 columns):\n",
      " #   Column       Non-Null Count   Dtype  \n",
      "---  ------       --------------   -----  \n",
      " 0   InvoiceNo    541909 non-null  object \n",
      " 1   StockCode    541909 non-null  object \n",
      " 2   Description  540455 non-null  object \n",
      " 3   Quantity     541909 non-null  int64  \n",
      " 4   InvoiceDate  541909 non-null  object \n",
      " 5   UnitPrice    541909 non-null  float64\n",
      " 6   CustomerID   406829 non-null  float64\n",
      " 7   Country      541909 non-null  object \n",
      " 8   Price        541909 non-null  float64\n",
      "dtypes: float64(3), int64(1), object(5)\n",
      "memory usage: 37.2+ MB\n"
     ]
    }
   ],
   "source": [
    "#Information about dataset\n",
    "df.info()"
   ]
  },
  {
   "cell_type": "code",
   "execution_count": 45,
   "id": "f15609ca",
   "metadata": {},
   "outputs": [
    {
     "data": {
      "text/plain": [
       "InvoiceNo      25900\n",
       "StockCode       4070\n",
       "Description     4223\n",
       "Quantity         722\n",
       "InvoiceDate    23260\n",
       "UnitPrice       1630\n",
       "CustomerID      4372\n",
       "Country           38\n",
       "Price           6204\n",
       "dtype: int64"
      ]
     },
     "execution_count": 45,
     "metadata": {},
     "output_type": "execute_result"
    }
   ],
   "source": [
    "#no.of unique values\n",
    "df.nunique()"
   ]
  },
  {
   "cell_type": "markdown",
   "id": "2478a9db",
   "metadata": {},
   "source": [
    "# Preprocessing the data"
   ]
  },
  {
   "cell_type": "code",
   "execution_count": 46,
   "id": "9fc43eb6",
   "metadata": {},
   "outputs": [
    {
     "data": {
      "text/plain": [
       "InvoiceNo           0\n",
       "StockCode           0\n",
       "Description      1454\n",
       "Quantity            0\n",
       "InvoiceDate         0\n",
       "UnitPrice           0\n",
       "CustomerID     135080\n",
       "Country             0\n",
       "Price               0\n",
       "dtype: int64"
      ]
     },
     "execution_count": 46,
     "metadata": {},
     "output_type": "execute_result"
    }
   ],
   "source": [
    "#Check missing data\n",
    "df.isnull().sum()"
   ]
  },
  {
   "cell_type": "code",
   "execution_count": 47,
   "id": "5f06d774",
   "metadata": {},
   "outputs": [
    {
     "data": {
      "text/plain": [
       "InvoiceNo       0.000000\n",
       "StockCode       0.000000\n",
       "Description     0.268311\n",
       "Quantity        0.000000\n",
       "InvoiceDate     0.000000\n",
       "UnitPrice       0.000000\n",
       "CustomerID     24.926694\n",
       "Country         0.000000\n",
       "Price           0.000000\n",
       "dtype: float64"
      ]
     },
     "execution_count": 47,
     "metadata": {},
     "output_type": "execute_result"
    }
   ],
   "source": [
    "# Total number of percent of missing data\n",
    "df.isnull().sum() / len(df)*100\n",
    "\n",
    "#We can see that almost 25% data is missing from CustomerID. We Have to drop the rows where CustomerID is missing since we \n",
    "#cannot say which customer bought how much products \n"
   ]
  },
  {
   "cell_type": "code",
   "execution_count": 48,
   "id": "5af91df3",
   "metadata": {},
   "outputs": [],
   "source": [
    "df=df.dropna(subset=['CustomerID'])"
   ]
  },
  {
   "cell_type": "code",
   "execution_count": 49,
   "id": "84470912",
   "metadata": {},
   "outputs": [
    {
     "data": {
      "text/plain": [
       "(406829, 9)"
      ]
     },
     "execution_count": 49,
     "metadata": {},
     "output_type": "execute_result"
    }
   ],
   "source": [
    "df.shape  #So we have removed 135080 rows"
   ]
  },
  {
   "cell_type": "markdown",
   "id": "06289a89",
   "metadata": {},
   "source": [
    "From the data, we can see that some transactions are company user ids. Hence, we need to remove them to get a more accurate analysis. To do that, we use the string function contains() and fiter out only those rows in the dataframe whose InvoiceID does not contain the character 'C'."
   ]
  },
  {
   "cell_type": "code",
   "execution_count": 50,
   "id": "e33805aa",
   "metadata": {},
   "outputs": [],
   "source": [
    "df = df[~df.InvoiceNo.str.contains('C')]"
   ]
  },
  {
   "cell_type": "code",
   "execution_count": 51,
   "id": "7a583aea",
   "metadata": {},
   "outputs": [
    {
     "data": {
      "text/plain": [
       "(397924, 9)"
      ]
     },
     "execution_count": 51,
     "metadata": {},
     "output_type": "execute_result"
    }
   ],
   "source": [
    "df.shape  # Some more rows were removed"
   ]
  },
  {
   "cell_type": "code",
   "execution_count": 52,
   "id": "5ddfa022",
   "metadata": {},
   "outputs": [
    {
     "data": {
      "text/plain": [
       "(5192, 9)"
      ]
     },
     "execution_count": 52,
     "metadata": {},
     "output_type": "execute_result"
    }
   ],
   "source": [
    "df[df.duplicated()].shape  # Checking for duplicate rows"
   ]
  },
  {
   "cell_type": "markdown",
   "id": "8f03f793",
   "metadata": {},
   "source": [
    "As we can see, there are 5192 duplicate records (values in all columns are identical). We decide to remove them in order to deal with them, to make our analysis more accurate. To do this, we select only those entries which are unique and keep only the first one of the duplicate entries by using the drop_duplicates() function from the Pandas library and set the keep parameter value as first."
   ]
  },
  {
   "cell_type": "code",
   "execution_count": 53,
   "id": "a59aaca6",
   "metadata": {},
   "outputs": [],
   "source": [
    "df = df.drop_duplicates(keep='first')"
   ]
  },
  {
   "cell_type": "code",
   "execution_count": 54,
   "id": "2772a81f",
   "metadata": {},
   "outputs": [
    {
     "data": {
      "text/plain": [
       "(392732, 9)"
      ]
     },
     "execution_count": 54,
     "metadata": {},
     "output_type": "execute_result"
    }
   ],
   "source": [
    "df.shape  #Some more rows are removed"
   ]
  },
  {
   "cell_type": "markdown",
   "id": "1e28588a",
   "metadata": {},
   "source": [
    "We also check for any negative values in the Quantity and Price column and figure out a way to deal with them. To do this, we use filter the values in the column and sum them up."
   ]
  },
  {
   "cell_type": "code",
   "execution_count": 57,
   "id": "110ecff0",
   "metadata": {},
   "outputs": [
    {
     "name": "stdout",
     "output_type": "stream",
     "text": [
      "0\n",
      "40\n"
     ]
    }
   ],
   "source": [
    "print((df.Quantity<=0).sum())\n",
    "print((df.Price<=0).sum()) "
   ]
  },
  {
   "cell_type": "code",
   "execution_count": 63,
   "id": "665a2ecb",
   "metadata": {},
   "outputs": [],
   "source": [
    "#There are some rows where price is <=0. So we need to remove those rows\n",
    "df.drop(df[df['Price']==0].index,inplace=True)"
   ]
  },
  {
   "cell_type": "code",
   "execution_count": 64,
   "id": "81c48caf",
   "metadata": {},
   "outputs": [
    {
     "data": {
      "text/plain": [
       "(392692, 9)"
      ]
     },
     "execution_count": 64,
     "metadata": {},
     "output_type": "execute_result"
    }
   ],
   "source": [
    "df.shape"
   ]
  },
  {
   "cell_type": "markdown",
   "id": "9c6c208c",
   "metadata": {},
   "source": [
    "# Recency = Latest Date - Last invoice date for each CustomerID\n",
    "Recency should be calculated as the number of days before he or she has made a purchase from the online store. \n",
    "# latest date = today's date or last date in the dataset\n",
    "\n",
    "# Frequency = number of invoice or no. of the transaction done by each CustomerID\n",
    "\n",
    "# Monetary = Sum of total amount purchased by each CustomerID\n"
   ]
  },
  {
   "cell_type": "code",
   "execution_count": 65,
   "id": "e81905b4",
   "metadata": {},
   "outputs": [],
   "source": [
    "df['Date'] = pd.to_datetime(df['InvoiceDate'])\n",
    "df['Date_1'] = df['Date']"
   ]
  },
  {
   "cell_type": "code",
   "execution_count": 66,
   "id": "a42a5e1d",
   "metadata": {},
   "outputs": [
    {
     "data": {
      "text/html": [
       "<div>\n",
       "<style scoped>\n",
       "    .dataframe tbody tr th:only-of-type {\n",
       "        vertical-align: middle;\n",
       "    }\n",
       "\n",
       "    .dataframe tbody tr th {\n",
       "        vertical-align: top;\n",
       "    }\n",
       "\n",
       "    .dataframe thead th {\n",
       "        text-align: right;\n",
       "    }\n",
       "</style>\n",
       "<table border=\"1\" class=\"dataframe\">\n",
       "  <thead>\n",
       "    <tr style=\"text-align: right;\">\n",
       "      <th></th>\n",
       "      <th>InvoiceNo</th>\n",
       "      <th>StockCode</th>\n",
       "      <th>Description</th>\n",
       "      <th>Quantity</th>\n",
       "      <th>InvoiceDate</th>\n",
       "      <th>UnitPrice</th>\n",
       "      <th>CustomerID</th>\n",
       "      <th>Country</th>\n",
       "      <th>Price</th>\n",
       "      <th>Date</th>\n",
       "      <th>Date_1</th>\n",
       "    </tr>\n",
       "  </thead>\n",
       "  <tbody>\n",
       "    <tr>\n",
       "      <th>0</th>\n",
       "      <td>536365</td>\n",
       "      <td>85123A</td>\n",
       "      <td>WHITE HANGING HEART T-LIGHT HOLDER</td>\n",
       "      <td>6</td>\n",
       "      <td>12-01-2010 08:26</td>\n",
       "      <td>2.55</td>\n",
       "      <td>17850.0</td>\n",
       "      <td>United Kingdom</td>\n",
       "      <td>15.30</td>\n",
       "      <td>2010-12-01 08:26:00</td>\n",
       "      <td>2010-12-01 08:26:00</td>\n",
       "    </tr>\n",
       "    <tr>\n",
       "      <th>1</th>\n",
       "      <td>536365</td>\n",
       "      <td>71053</td>\n",
       "      <td>WHITE METAL LANTERN</td>\n",
       "      <td>6</td>\n",
       "      <td>12-01-2010 08:26</td>\n",
       "      <td>3.39</td>\n",
       "      <td>17850.0</td>\n",
       "      <td>United Kingdom</td>\n",
       "      <td>20.34</td>\n",
       "      <td>2010-12-01 08:26:00</td>\n",
       "      <td>2010-12-01 08:26:00</td>\n",
       "    </tr>\n",
       "    <tr>\n",
       "      <th>2</th>\n",
       "      <td>536365</td>\n",
       "      <td>84406B</td>\n",
       "      <td>CREAM CUPID HEARTS COAT HANGER</td>\n",
       "      <td>8</td>\n",
       "      <td>12-01-2010 08:26</td>\n",
       "      <td>2.75</td>\n",
       "      <td>17850.0</td>\n",
       "      <td>United Kingdom</td>\n",
       "      <td>22.00</td>\n",
       "      <td>2010-12-01 08:26:00</td>\n",
       "      <td>2010-12-01 08:26:00</td>\n",
       "    </tr>\n",
       "    <tr>\n",
       "      <th>3</th>\n",
       "      <td>536365</td>\n",
       "      <td>84029G</td>\n",
       "      <td>KNITTED UNION FLAG HOT WATER BOTTLE</td>\n",
       "      <td>6</td>\n",
       "      <td>12-01-2010 08:26</td>\n",
       "      <td>3.39</td>\n",
       "      <td>17850.0</td>\n",
       "      <td>United Kingdom</td>\n",
       "      <td>20.34</td>\n",
       "      <td>2010-12-01 08:26:00</td>\n",
       "      <td>2010-12-01 08:26:00</td>\n",
       "    </tr>\n",
       "    <tr>\n",
       "      <th>4</th>\n",
       "      <td>536365</td>\n",
       "      <td>84029E</td>\n",
       "      <td>RED WOOLLY HOTTIE WHITE HEART.</td>\n",
       "      <td>6</td>\n",
       "      <td>12-01-2010 08:26</td>\n",
       "      <td>3.39</td>\n",
       "      <td>17850.0</td>\n",
       "      <td>United Kingdom</td>\n",
       "      <td>20.34</td>\n",
       "      <td>2010-12-01 08:26:00</td>\n",
       "      <td>2010-12-01 08:26:00</td>\n",
       "    </tr>\n",
       "  </tbody>\n",
       "</table>\n",
       "</div>"
      ],
      "text/plain": [
       "  InvoiceNo StockCode                          Description  Quantity  \\\n",
       "0    536365    85123A   WHITE HANGING HEART T-LIGHT HOLDER         6   \n",
       "1    536365     71053                  WHITE METAL LANTERN         6   \n",
       "2    536365    84406B       CREAM CUPID HEARTS COAT HANGER         8   \n",
       "3    536365    84029G  KNITTED UNION FLAG HOT WATER BOTTLE         6   \n",
       "4    536365    84029E       RED WOOLLY HOTTIE WHITE HEART.         6   \n",
       "\n",
       "        InvoiceDate  UnitPrice  CustomerID         Country  Price  \\\n",
       "0  12-01-2010 08:26       2.55     17850.0  United Kingdom  15.30   \n",
       "1  12-01-2010 08:26       3.39     17850.0  United Kingdom  20.34   \n",
       "2  12-01-2010 08:26       2.75     17850.0  United Kingdom  22.00   \n",
       "3  12-01-2010 08:26       3.39     17850.0  United Kingdom  20.34   \n",
       "4  12-01-2010 08:26       3.39     17850.0  United Kingdom  20.34   \n",
       "\n",
       "                 Date              Date_1  \n",
       "0 2010-12-01 08:26:00 2010-12-01 08:26:00  \n",
       "1 2010-12-01 08:26:00 2010-12-01 08:26:00  \n",
       "2 2010-12-01 08:26:00 2010-12-01 08:26:00  \n",
       "3 2010-12-01 08:26:00 2010-12-01 08:26:00  \n",
       "4 2010-12-01 08:26:00 2010-12-01 08:26:00  "
      ]
     },
     "execution_count": 66,
     "metadata": {},
     "output_type": "execute_result"
    }
   ],
   "source": [
    "df.head()"
   ]
  },
  {
   "cell_type": "code",
   "execution_count": 67,
   "id": "b325adf6",
   "metadata": {},
   "outputs": [
    {
     "data": {
      "text/plain": [
       "Timestamp('2011-12-09 12:50:00')"
      ]
     },
     "execution_count": 67,
     "metadata": {},
     "output_type": "execute_result"
    }
   ],
   "source": [
    "max(df['Date'])"
   ]
  },
  {
   "cell_type": "code",
   "execution_count": 68,
   "id": "536e66c8",
   "metadata": {},
   "outputs": [
    {
     "data": {
      "text/plain": [
       "datetime.datetime(2011, 12, 10, 0, 0)"
      ]
     },
     "execution_count": 68,
     "metadata": {},
     "output_type": "execute_result"
    }
   ],
   "source": [
    "#last date = 9 dec 2011\n",
    "#latest date = 10 dec 2011\n",
    "import datetime as dt\n",
    "latest_date=dt.datetime(2011,12,10)\n",
    "latest_date"
   ]
  },
  {
   "cell_type": "code",
   "execution_count": 69,
   "id": "58ff5f97",
   "metadata": {},
   "outputs": [],
   "source": [
    "# Create RMF model by each customer\n",
    "\n",
    "RMFScore = df.groupby('CustomerID').agg({'Date_1': lambda x : (latest_date - x.max()).days,\n",
    "                                            'Date': lambda x : x.count(),\n",
    "                                            'Price' : lambda x : x.sum()})"
   ]
  },
  {
   "cell_type": "code",
   "execution_count": 70,
   "id": "39c2d97a",
   "metadata": {},
   "outputs": [
    {
     "data": {
      "text/html": [
       "<div>\n",
       "<style scoped>\n",
       "    .dataframe tbody tr th:only-of-type {\n",
       "        vertical-align: middle;\n",
       "    }\n",
       "\n",
       "    .dataframe tbody tr th {\n",
       "        vertical-align: top;\n",
       "    }\n",
       "\n",
       "    .dataframe thead th {\n",
       "        text-align: right;\n",
       "    }\n",
       "</style>\n",
       "<table border=\"1\" class=\"dataframe\">\n",
       "  <thead>\n",
       "    <tr style=\"text-align: right;\">\n",
       "      <th></th>\n",
       "      <th>Date_1</th>\n",
       "      <th>Date</th>\n",
       "      <th>Price</th>\n",
       "    </tr>\n",
       "    <tr>\n",
       "      <th>CustomerID</th>\n",
       "      <th></th>\n",
       "      <th></th>\n",
       "      <th></th>\n",
       "    </tr>\n",
       "  </thead>\n",
       "  <tbody>\n",
       "    <tr>\n",
       "      <th>12346.0</th>\n",
       "      <td>325</td>\n",
       "      <td>1</td>\n",
       "      <td>77183.60</td>\n",
       "    </tr>\n",
       "    <tr>\n",
       "      <th>12347.0</th>\n",
       "      <td>2</td>\n",
       "      <td>182</td>\n",
       "      <td>4310.00</td>\n",
       "    </tr>\n",
       "    <tr>\n",
       "      <th>12348.0</th>\n",
       "      <td>75</td>\n",
       "      <td>31</td>\n",
       "      <td>1797.24</td>\n",
       "    </tr>\n",
       "    <tr>\n",
       "      <th>12349.0</th>\n",
       "      <td>18</td>\n",
       "      <td>73</td>\n",
       "      <td>1757.55</td>\n",
       "    </tr>\n",
       "    <tr>\n",
       "      <th>12350.0</th>\n",
       "      <td>310</td>\n",
       "      <td>17</td>\n",
       "      <td>334.40</td>\n",
       "    </tr>\n",
       "    <tr>\n",
       "      <th>...</th>\n",
       "      <td>...</td>\n",
       "      <td>...</td>\n",
       "      <td>...</td>\n",
       "    </tr>\n",
       "    <tr>\n",
       "      <th>18280.0</th>\n",
       "      <td>277</td>\n",
       "      <td>10</td>\n",
       "      <td>180.60</td>\n",
       "    </tr>\n",
       "    <tr>\n",
       "      <th>18281.0</th>\n",
       "      <td>180</td>\n",
       "      <td>7</td>\n",
       "      <td>80.82</td>\n",
       "    </tr>\n",
       "    <tr>\n",
       "      <th>18282.0</th>\n",
       "      <td>7</td>\n",
       "      <td>12</td>\n",
       "      <td>178.05</td>\n",
       "    </tr>\n",
       "    <tr>\n",
       "      <th>18283.0</th>\n",
       "      <td>3</td>\n",
       "      <td>721</td>\n",
       "      <td>2045.53</td>\n",
       "    </tr>\n",
       "    <tr>\n",
       "      <th>18287.0</th>\n",
       "      <td>42</td>\n",
       "      <td>70</td>\n",
       "      <td>1837.28</td>\n",
       "    </tr>\n",
       "  </tbody>\n",
       "</table>\n",
       "<p>4338 rows × 3 columns</p>\n",
       "</div>"
      ],
      "text/plain": [
       "            Date_1  Date     Price\n",
       "CustomerID                        \n",
       "12346.0        325     1  77183.60\n",
       "12347.0          2   182   4310.00\n",
       "12348.0         75    31   1797.24\n",
       "12349.0         18    73   1757.55\n",
       "12350.0        310    17    334.40\n",
       "...            ...   ...       ...\n",
       "18280.0        277    10    180.60\n",
       "18281.0        180     7     80.82\n",
       "18282.0          7    12    178.05\n",
       "18283.0          3   721   2045.53\n",
       "18287.0         42    70   1837.28\n",
       "\n",
       "[4338 rows x 3 columns]"
      ]
     },
     "execution_count": 70,
     "metadata": {},
     "output_type": "execute_result"
    }
   ],
   "source": [
    "RMFScore"
   ]
  },
  {
   "cell_type": "code",
   "execution_count": 71,
   "id": "af80c12a",
   "metadata": {},
   "outputs": [
    {
     "data": {
      "text/html": [
       "<div>\n",
       "<style scoped>\n",
       "    .dataframe tbody tr th:only-of-type {\n",
       "        vertical-align: middle;\n",
       "    }\n",
       "\n",
       "    .dataframe tbody tr th {\n",
       "        vertical-align: top;\n",
       "    }\n",
       "\n",
       "    .dataframe thead th {\n",
       "        text-align: right;\n",
       "    }\n",
       "</style>\n",
       "<table border=\"1\" class=\"dataframe\">\n",
       "  <thead>\n",
       "    <tr style=\"text-align: right;\">\n",
       "      <th></th>\n",
       "      <th>CustomerID</th>\n",
       "      <th>Recency</th>\n",
       "      <th>Frequency</th>\n",
       "      <th>Monetory</th>\n",
       "    </tr>\n",
       "  </thead>\n",
       "  <tbody>\n",
       "    <tr>\n",
       "      <th>0</th>\n",
       "      <td>12346.0</td>\n",
       "      <td>325</td>\n",
       "      <td>1</td>\n",
       "      <td>77183.60</td>\n",
       "    </tr>\n",
       "    <tr>\n",
       "      <th>1</th>\n",
       "      <td>12347.0</td>\n",
       "      <td>2</td>\n",
       "      <td>182</td>\n",
       "      <td>4310.00</td>\n",
       "    </tr>\n",
       "    <tr>\n",
       "      <th>2</th>\n",
       "      <td>12348.0</td>\n",
       "      <td>75</td>\n",
       "      <td>31</td>\n",
       "      <td>1797.24</td>\n",
       "    </tr>\n",
       "    <tr>\n",
       "      <th>3</th>\n",
       "      <td>12349.0</td>\n",
       "      <td>18</td>\n",
       "      <td>73</td>\n",
       "      <td>1757.55</td>\n",
       "    </tr>\n",
       "    <tr>\n",
       "      <th>4</th>\n",
       "      <td>12350.0</td>\n",
       "      <td>310</td>\n",
       "      <td>17</td>\n",
       "      <td>334.40</td>\n",
       "    </tr>\n",
       "    <tr>\n",
       "      <th>...</th>\n",
       "      <td>...</td>\n",
       "      <td>...</td>\n",
       "      <td>...</td>\n",
       "      <td>...</td>\n",
       "    </tr>\n",
       "    <tr>\n",
       "      <th>95</th>\n",
       "      <td>12462.0</td>\n",
       "      <td>18</td>\n",
       "      <td>62</td>\n",
       "      <td>1189.59</td>\n",
       "    </tr>\n",
       "    <tr>\n",
       "      <th>96</th>\n",
       "      <td>12463.0</td>\n",
       "      <td>53</td>\n",
       "      <td>83</td>\n",
       "      <td>1344.78</td>\n",
       "    </tr>\n",
       "    <tr>\n",
       "      <th>97</th>\n",
       "      <td>12464.0</td>\n",
       "      <td>10</td>\n",
       "      <td>29</td>\n",
       "      <td>1212.05</td>\n",
       "    </tr>\n",
       "    <tr>\n",
       "      <th>98</th>\n",
       "      <td>12465.0</td>\n",
       "      <td>17</td>\n",
       "      <td>47</td>\n",
       "      <td>742.19</td>\n",
       "    </tr>\n",
       "    <tr>\n",
       "      <th>99</th>\n",
       "      <td>12468.0</td>\n",
       "      <td>187</td>\n",
       "      <td>38</td>\n",
       "      <td>729.54</td>\n",
       "    </tr>\n",
       "  </tbody>\n",
       "</table>\n",
       "<p>100 rows × 4 columns</p>\n",
       "</div>"
      ],
      "text/plain": [
       "    CustomerID  Recency  Frequency  Monetory\n",
       "0      12346.0      325          1  77183.60\n",
       "1      12347.0        2        182   4310.00\n",
       "2      12348.0       75         31   1797.24\n",
       "3      12349.0       18         73   1757.55\n",
       "4      12350.0      310         17    334.40\n",
       "..         ...      ...        ...       ...\n",
       "95     12462.0       18         62   1189.59\n",
       "96     12463.0       53         83   1344.78\n",
       "97     12464.0       10         29   1212.05\n",
       "98     12465.0       17         47    742.19\n",
       "99     12468.0      187         38    729.54\n",
       "\n",
       "[100 rows x 4 columns]"
      ]
     },
     "execution_count": 71,
     "metadata": {},
     "output_type": "execute_result"
    }
   ],
   "source": [
    "RMFScore['Date'] = RMFScore['Date'].astype(int)\n",
    "RMFScore.rename(columns = {'Date_1' : \"Recency\", \"Date\": \"Frequency\",\"Price\":\"Monetory\"},\n",
    "                inplace = True)\n",
    "\n",
    "RMFScore.reset_index().head(100)"
   ]
  },
  {
   "cell_type": "code",
   "execution_count": 74,
   "id": "dfd48d83",
   "metadata": {},
   "outputs": [
    {
     "data": {
      "text/plain": [
       "{'Recency': {0.25: 17.0, 0.5: 50.0, 0.75: 141.75},\n",
       " 'Frequency': {0.25: 17.0, 0.5: 41.0, 0.75: 98.0},\n",
       " 'Monetory': {0.25: 306.48249999999996,\n",
       "  0.5: 668.5700000000002,\n",
       "  0.75: 1660.5974999999999}}"
      ]
     },
     "execution_count": 74,
     "metadata": {},
     "output_type": "execute_result"
    }
   ],
   "source": [
    "# EDA Part : \n",
    "# split the data into  segments using quantile method\n",
    "quantiles = RMFScore.quantile(q=[0.25,0.50,0.75])\n",
    "quantiles = quantiles.to_dict()\n",
    "quantiles"
   ]
  },
  {
   "cell_type": "markdown",
   "id": "07f89eeb",
   "metadata": {},
   "source": [
    "In Recency less the number of days better it is for us as the customer is more recent. \n",
    "Cosidering Frequency , more the number of days better it is as the customers are frequently visiting.\n",
    "Similarly with Monetory, more the value of transactions for each customer better it is.\n",
    "We have to check all 3 parameters. Accordingly we will create clusters"
   ]
  },
  {
   "cell_type": "code",
   "execution_count": 80,
   "id": "388b3412",
   "metadata": {},
   "outputs": [],
   "source": [
    "# Create own function to define R, F and M Segment\n",
    "\n",
    "def RScoring(x,p,d):\n",
    "    if x<= d[p][0.25]:\n",
    "        return 1\n",
    "    elif x <= d[p][0.50]:\n",
    "        return 2\n",
    "    elif x <= d[p][0.75]:\n",
    "        return 3\n",
    "    else :\n",
    "        return 4\n",
    "    \n",
    "def FnMScoring(x,p,d):\n",
    "    if x <= d[p][0.25]:\n",
    "        return 4\n",
    "    elif x <= d[p][0.50]:\n",
    "        return 3\n",
    "    elif x <= d[p][0.75] :\n",
    "        return 2\n",
    "    else :\n",
    "        return 1"
   ]
  },
  {
   "cell_type": "code",
   "execution_count": 81,
   "id": "9ce46444",
   "metadata": {},
   "outputs": [
    {
     "data": {
      "text/plain": [
       "Index(['Recency', 'Frequency', 'Monetory', 'R', 'F', 'M'], dtype='object')"
      ]
     },
     "execution_count": 81,
     "metadata": {},
     "output_type": "execute_result"
    }
   ],
   "source": [
    "RMFScore.columns"
   ]
  },
  {
   "cell_type": "code",
   "execution_count": 86,
   "id": "8b5a39bf",
   "metadata": {},
   "outputs": [],
   "source": [
    "RMFScore['R'] = RMFScore['Recency'].apply(RScoring, args = ('Recency', quantiles))\n",
    "RMFScore['F'] = RMFScore['Frequency'].apply(FnMScoring, args = ('Frequency', quantiles))\n",
    "RMFScore['M'] = RMFScore['Monetory'].apply(FnMScoring, args = ('Monetory', quantiles))"
   ]
  },
  {
   "cell_type": "code",
   "execution_count": 87,
   "id": "17192b9c",
   "metadata": {},
   "outputs": [
    {
     "data": {
      "text/html": [
       "<div>\n",
       "<style scoped>\n",
       "    .dataframe tbody tr th:only-of-type {\n",
       "        vertical-align: middle;\n",
       "    }\n",
       "\n",
       "    .dataframe tbody tr th {\n",
       "        vertical-align: top;\n",
       "    }\n",
       "\n",
       "    .dataframe thead th {\n",
       "        text-align: right;\n",
       "    }\n",
       "</style>\n",
       "<table border=\"1\" class=\"dataframe\">\n",
       "  <thead>\n",
       "    <tr style=\"text-align: right;\">\n",
       "      <th></th>\n",
       "      <th>Recency</th>\n",
       "      <th>Frequency</th>\n",
       "      <th>Monetory</th>\n",
       "      <th>R</th>\n",
       "      <th>F</th>\n",
       "      <th>M</th>\n",
       "    </tr>\n",
       "    <tr>\n",
       "      <th>CustomerID</th>\n",
       "      <th></th>\n",
       "      <th></th>\n",
       "      <th></th>\n",
       "      <th></th>\n",
       "      <th></th>\n",
       "      <th></th>\n",
       "    </tr>\n",
       "  </thead>\n",
       "  <tbody>\n",
       "    <tr>\n",
       "      <th>12346.0</th>\n",
       "      <td>325</td>\n",
       "      <td>1</td>\n",
       "      <td>77183.60</td>\n",
       "      <td>4</td>\n",
       "      <td>4</td>\n",
       "      <td>1</td>\n",
       "    </tr>\n",
       "    <tr>\n",
       "      <th>12347.0</th>\n",
       "      <td>2</td>\n",
       "      <td>182</td>\n",
       "      <td>4310.00</td>\n",
       "      <td>1</td>\n",
       "      <td>1</td>\n",
       "      <td>1</td>\n",
       "    </tr>\n",
       "    <tr>\n",
       "      <th>12348.0</th>\n",
       "      <td>75</td>\n",
       "      <td>31</td>\n",
       "      <td>1797.24</td>\n",
       "      <td>3</td>\n",
       "      <td>3</td>\n",
       "      <td>1</td>\n",
       "    </tr>\n",
       "    <tr>\n",
       "      <th>12349.0</th>\n",
       "      <td>18</td>\n",
       "      <td>73</td>\n",
       "      <td>1757.55</td>\n",
       "      <td>2</td>\n",
       "      <td>2</td>\n",
       "      <td>1</td>\n",
       "    </tr>\n",
       "    <tr>\n",
       "      <th>12350.0</th>\n",
       "      <td>310</td>\n",
       "      <td>17</td>\n",
       "      <td>334.40</td>\n",
       "      <td>4</td>\n",
       "      <td>4</td>\n",
       "      <td>3</td>\n",
       "    </tr>\n",
       "    <tr>\n",
       "      <th>12352.0</th>\n",
       "      <td>36</td>\n",
       "      <td>85</td>\n",
       "      <td>2506.04</td>\n",
       "      <td>2</td>\n",
       "      <td>2</td>\n",
       "      <td>1</td>\n",
       "    </tr>\n",
       "    <tr>\n",
       "      <th>12353.0</th>\n",
       "      <td>204</td>\n",
       "      <td>4</td>\n",
       "      <td>89.00</td>\n",
       "      <td>4</td>\n",
       "      <td>4</td>\n",
       "      <td>4</td>\n",
       "    </tr>\n",
       "    <tr>\n",
       "      <th>12354.0</th>\n",
       "      <td>232</td>\n",
       "      <td>58</td>\n",
       "      <td>1079.40</td>\n",
       "      <td>4</td>\n",
       "      <td>2</td>\n",
       "      <td>2</td>\n",
       "    </tr>\n",
       "    <tr>\n",
       "      <th>12355.0</th>\n",
       "      <td>214</td>\n",
       "      <td>13</td>\n",
       "      <td>459.40</td>\n",
       "      <td>4</td>\n",
       "      <td>4</td>\n",
       "      <td>3</td>\n",
       "    </tr>\n",
       "    <tr>\n",
       "      <th>12356.0</th>\n",
       "      <td>22</td>\n",
       "      <td>59</td>\n",
       "      <td>2811.43</td>\n",
       "      <td>2</td>\n",
       "      <td>2</td>\n",
       "      <td>1</td>\n",
       "    </tr>\n",
       "    <tr>\n",
       "      <th>12357.0</th>\n",
       "      <td>33</td>\n",
       "      <td>131</td>\n",
       "      <td>6207.67</td>\n",
       "      <td>2</td>\n",
       "      <td>1</td>\n",
       "      <td>1</td>\n",
       "    </tr>\n",
       "    <tr>\n",
       "      <th>12358.0</th>\n",
       "      <td>1</td>\n",
       "      <td>19</td>\n",
       "      <td>1168.06</td>\n",
       "      <td>1</td>\n",
       "      <td>3</td>\n",
       "      <td>2</td>\n",
       "    </tr>\n",
       "    <tr>\n",
       "      <th>12359.0</th>\n",
       "      <td>57</td>\n",
       "      <td>245</td>\n",
       "      <td>6310.03</td>\n",
       "      <td>3</td>\n",
       "      <td>1</td>\n",
       "      <td>1</td>\n",
       "    </tr>\n",
       "    <tr>\n",
       "      <th>12360.0</th>\n",
       "      <td>52</td>\n",
       "      <td>129</td>\n",
       "      <td>2662.06</td>\n",
       "      <td>3</td>\n",
       "      <td>1</td>\n",
       "      <td>1</td>\n",
       "    </tr>\n",
       "    <tr>\n",
       "      <th>12361.0</th>\n",
       "      <td>287</td>\n",
       "      <td>10</td>\n",
       "      <td>189.90</td>\n",
       "      <td>4</td>\n",
       "      <td>4</td>\n",
       "      <td>4</td>\n",
       "    </tr>\n",
       "    <tr>\n",
       "      <th>12362.0</th>\n",
       "      <td>3</td>\n",
       "      <td>266</td>\n",
       "      <td>5226.23</td>\n",
       "      <td>1</td>\n",
       "      <td>1</td>\n",
       "      <td>1</td>\n",
       "    </tr>\n",
       "    <tr>\n",
       "      <th>12363.0</th>\n",
       "      <td>109</td>\n",
       "      <td>23</td>\n",
       "      <td>552.00</td>\n",
       "      <td>3</td>\n",
       "      <td>3</td>\n",
       "      <td>3</td>\n",
       "    </tr>\n",
       "    <tr>\n",
       "      <th>12364.0</th>\n",
       "      <td>7</td>\n",
       "      <td>85</td>\n",
       "      <td>1313.10</td>\n",
       "      <td>1</td>\n",
       "      <td>2</td>\n",
       "      <td>2</td>\n",
       "    </tr>\n",
       "    <tr>\n",
       "      <th>12365.0</th>\n",
       "      <td>291</td>\n",
       "      <td>22</td>\n",
       "      <td>641.38</td>\n",
       "      <td>4</td>\n",
       "      <td>3</td>\n",
       "      <td>3</td>\n",
       "    </tr>\n",
       "    <tr>\n",
       "      <th>12367.0</th>\n",
       "      <td>4</td>\n",
       "      <td>11</td>\n",
       "      <td>168.90</td>\n",
       "      <td>1</td>\n",
       "      <td>4</td>\n",
       "      <td>4</td>\n",
       "    </tr>\n",
       "  </tbody>\n",
       "</table>\n",
       "</div>"
      ],
      "text/plain": [
       "            Recency  Frequency  Monetory  R  F  M\n",
       "CustomerID                                       \n",
       "12346.0         325          1  77183.60  4  4  1\n",
       "12347.0           2        182   4310.00  1  1  1\n",
       "12348.0          75         31   1797.24  3  3  1\n",
       "12349.0          18         73   1757.55  2  2  1\n",
       "12350.0         310         17    334.40  4  4  3\n",
       "12352.0          36         85   2506.04  2  2  1\n",
       "12353.0         204          4     89.00  4  4  4\n",
       "12354.0         232         58   1079.40  4  2  2\n",
       "12355.0         214         13    459.40  4  4  3\n",
       "12356.0          22         59   2811.43  2  2  1\n",
       "12357.0          33        131   6207.67  2  1  1\n",
       "12358.0           1         19   1168.06  1  3  2\n",
       "12359.0          57        245   6310.03  3  1  1\n",
       "12360.0          52        129   2662.06  3  1  1\n",
       "12361.0         287         10    189.90  4  4  4\n",
       "12362.0           3        266   5226.23  1  1  1\n",
       "12363.0         109         23    552.00  3  3  3\n",
       "12364.0           7         85   1313.10  1  2  2\n",
       "12365.0         291         22    641.38  4  3  3\n",
       "12367.0           4         11    168.90  1  4  4"
      ]
     },
     "execution_count": 87,
     "metadata": {},
     "output_type": "execute_result"
    }
   ],
   "source": [
    "RMFScore.head(20)"
   ]
  },
  {
   "cell_type": "markdown",
   "id": "cdfe2d1a",
   "metadata": {},
   "source": [
    "# Here we interpret like this.1 is the best for each customer, 2 second best , 3 is ok and 4 is the worst\n",
    "if customer has 1  1  1 then it means this is a recent customer he is just a few days old,his frequency is more than 98 days and total transaction value is more than 1660. So we can send our offer to him. Similarly we will make clusters on the basis of scoring of customers."
   ]
  },
  {
   "cell_type": "code",
   "execution_count": 88,
   "id": "c5d667a7",
   "metadata": {},
   "outputs": [],
   "source": [
    "RMFScore['RFMScore'] = RMFScore[['R','F','M']].sum(axis=1)  # We add all the scores of Recency,Monetory and Frequency. "
   ]
  },
  {
   "cell_type": "code",
   "execution_count": 89,
   "id": "a11dd915",
   "metadata": {},
   "outputs": [
    {
     "data": {
      "text/html": [
       "<div>\n",
       "<style scoped>\n",
       "    .dataframe tbody tr th:only-of-type {\n",
       "        vertical-align: middle;\n",
       "    }\n",
       "\n",
       "    .dataframe tbody tr th {\n",
       "        vertical-align: top;\n",
       "    }\n",
       "\n",
       "    .dataframe thead th {\n",
       "        text-align: right;\n",
       "    }\n",
       "</style>\n",
       "<table border=\"1\" class=\"dataframe\">\n",
       "  <thead>\n",
       "    <tr style=\"text-align: right;\">\n",
       "      <th></th>\n",
       "      <th>Recency</th>\n",
       "      <th>Frequency</th>\n",
       "      <th>Monetory</th>\n",
       "      <th>R</th>\n",
       "      <th>F</th>\n",
       "      <th>M</th>\n",
       "      <th>RFMScore</th>\n",
       "    </tr>\n",
       "    <tr>\n",
       "      <th>CustomerID</th>\n",
       "      <th></th>\n",
       "      <th></th>\n",
       "      <th></th>\n",
       "      <th></th>\n",
       "      <th></th>\n",
       "      <th></th>\n",
       "      <th></th>\n",
       "    </tr>\n",
       "  </thead>\n",
       "  <tbody>\n",
       "    <tr>\n",
       "      <th>12346.0</th>\n",
       "      <td>325</td>\n",
       "      <td>1</td>\n",
       "      <td>77183.60</td>\n",
       "      <td>4</td>\n",
       "      <td>4</td>\n",
       "      <td>1</td>\n",
       "      <td>9</td>\n",
       "    </tr>\n",
       "    <tr>\n",
       "      <th>12347.0</th>\n",
       "      <td>2</td>\n",
       "      <td>182</td>\n",
       "      <td>4310.00</td>\n",
       "      <td>1</td>\n",
       "      <td>1</td>\n",
       "      <td>1</td>\n",
       "      <td>3</td>\n",
       "    </tr>\n",
       "    <tr>\n",
       "      <th>12348.0</th>\n",
       "      <td>75</td>\n",
       "      <td>31</td>\n",
       "      <td>1797.24</td>\n",
       "      <td>3</td>\n",
       "      <td>3</td>\n",
       "      <td>1</td>\n",
       "      <td>7</td>\n",
       "    </tr>\n",
       "    <tr>\n",
       "      <th>12349.0</th>\n",
       "      <td>18</td>\n",
       "      <td>73</td>\n",
       "      <td>1757.55</td>\n",
       "      <td>2</td>\n",
       "      <td>2</td>\n",
       "      <td>1</td>\n",
       "      <td>5</td>\n",
       "    </tr>\n",
       "    <tr>\n",
       "      <th>12350.0</th>\n",
       "      <td>310</td>\n",
       "      <td>17</td>\n",
       "      <td>334.40</td>\n",
       "      <td>4</td>\n",
       "      <td>4</td>\n",
       "      <td>3</td>\n",
       "      <td>11</td>\n",
       "    </tr>\n",
       "  </tbody>\n",
       "</table>\n",
       "</div>"
      ],
      "text/plain": [
       "            Recency  Frequency  Monetory  R  F  M  RFMScore\n",
       "CustomerID                                                 \n",
       "12346.0         325          1  77183.60  4  4  1         9\n",
       "12347.0           2        182   4310.00  1  1  1         3\n",
       "12348.0          75         31   1797.24  3  3  1         7\n",
       "12349.0          18         73   1757.55  2  2  1         5\n",
       "12350.0         310         17    334.40  4  4  3        11"
      ]
     },
     "execution_count": 89,
     "metadata": {},
     "output_type": "execute_result"
    }
   ],
   "source": [
    "RMFScore.head()"
   ]
  },
  {
   "cell_type": "code",
   "execution_count": 125,
   "id": "84f4eb45",
   "metadata": {},
   "outputs": [
    {
     "data": {
      "text/html": [
       "<div>\n",
       "<style scoped>\n",
       "    .dataframe tbody tr th:only-of-type {\n",
       "        vertical-align: middle;\n",
       "    }\n",
       "\n",
       "    .dataframe tbody tr th {\n",
       "        vertical-align: top;\n",
       "    }\n",
       "\n",
       "    .dataframe thead th {\n",
       "        text-align: right;\n",
       "    }\n",
       "</style>\n",
       "<table border=\"1\" class=\"dataframe\">\n",
       "  <thead>\n",
       "    <tr style=\"text-align: right;\">\n",
       "      <th></th>\n",
       "      <th>CustomerID</th>\n",
       "      <th>Recency</th>\n",
       "      <th>Frequency</th>\n",
       "      <th>Monetory</th>\n",
       "      <th>R</th>\n",
       "      <th>F</th>\n",
       "      <th>M</th>\n",
       "      <th>RFMScore</th>\n",
       "      <th>RFM_Loyalty_level</th>\n",
       "      <th>Cluster</th>\n",
       "    </tr>\n",
       "  </thead>\n",
       "  <tbody>\n",
       "    <tr>\n",
       "      <th>0</th>\n",
       "      <td>12346.0</td>\n",
       "      <td>325</td>\n",
       "      <td>1</td>\n",
       "      <td>77183.60</td>\n",
       "      <td>4</td>\n",
       "      <td>4</td>\n",
       "      <td>1</td>\n",
       "      <td>9</td>\n",
       "      <td>Gold</td>\n",
       "      <td>2</td>\n",
       "    </tr>\n",
       "    <tr>\n",
       "      <th>1</th>\n",
       "      <td>12347.0</td>\n",
       "      <td>2</td>\n",
       "      <td>182</td>\n",
       "      <td>4310.00</td>\n",
       "      <td>1</td>\n",
       "      <td>1</td>\n",
       "      <td>1</td>\n",
       "      <td>3</td>\n",
       "      <td>Diamond</td>\n",
       "      <td>0</td>\n",
       "    </tr>\n",
       "    <tr>\n",
       "      <th>2</th>\n",
       "      <td>12348.0</td>\n",
       "      <td>75</td>\n",
       "      <td>31</td>\n",
       "      <td>1797.24</td>\n",
       "      <td>3</td>\n",
       "      <td>3</td>\n",
       "      <td>1</td>\n",
       "      <td>7</td>\n",
       "      <td>Platinum</td>\n",
       "      <td>0</td>\n",
       "    </tr>\n",
       "    <tr>\n",
       "      <th>3</th>\n",
       "      <td>12349.0</td>\n",
       "      <td>18</td>\n",
       "      <td>73</td>\n",
       "      <td>1757.55</td>\n",
       "      <td>2</td>\n",
       "      <td>2</td>\n",
       "      <td>1</td>\n",
       "      <td>5</td>\n",
       "      <td>Diamond</td>\n",
       "      <td>0</td>\n",
       "    </tr>\n",
       "    <tr>\n",
       "      <th>4</th>\n",
       "      <td>12350.0</td>\n",
       "      <td>310</td>\n",
       "      <td>17</td>\n",
       "      <td>334.40</td>\n",
       "      <td>4</td>\n",
       "      <td>4</td>\n",
       "      <td>3</td>\n",
       "      <td>11</td>\n",
       "      <td>Silver</td>\n",
       "      <td>2</td>\n",
       "    </tr>\n",
       "    <tr>\n",
       "      <th>5</th>\n",
       "      <td>12352.0</td>\n",
       "      <td>36</td>\n",
       "      <td>85</td>\n",
       "      <td>2506.04</td>\n",
       "      <td>2</td>\n",
       "      <td>2</td>\n",
       "      <td>1</td>\n",
       "      <td>5</td>\n",
       "      <td>Diamond</td>\n",
       "      <td>0</td>\n",
       "    </tr>\n",
       "    <tr>\n",
       "      <th>6</th>\n",
       "      <td>12353.0</td>\n",
       "      <td>204</td>\n",
       "      <td>4</td>\n",
       "      <td>89.00</td>\n",
       "      <td>4</td>\n",
       "      <td>4</td>\n",
       "      <td>4</td>\n",
       "      <td>12</td>\n",
       "      <td>Silver</td>\n",
       "      <td>2</td>\n",
       "    </tr>\n",
       "    <tr>\n",
       "      <th>7</th>\n",
       "      <td>12354.0</td>\n",
       "      <td>232</td>\n",
       "      <td>58</td>\n",
       "      <td>1079.40</td>\n",
       "      <td>4</td>\n",
       "      <td>2</td>\n",
       "      <td>2</td>\n",
       "      <td>8</td>\n",
       "      <td>Gold</td>\n",
       "      <td>2</td>\n",
       "    </tr>\n",
       "    <tr>\n",
       "      <th>8</th>\n",
       "      <td>12355.0</td>\n",
       "      <td>214</td>\n",
       "      <td>13</td>\n",
       "      <td>459.40</td>\n",
       "      <td>4</td>\n",
       "      <td>4</td>\n",
       "      <td>3</td>\n",
       "      <td>11</td>\n",
       "      <td>Silver</td>\n",
       "      <td>2</td>\n",
       "    </tr>\n",
       "    <tr>\n",
       "      <th>9</th>\n",
       "      <td>12356.0</td>\n",
       "      <td>22</td>\n",
       "      <td>59</td>\n",
       "      <td>2811.43</td>\n",
       "      <td>2</td>\n",
       "      <td>2</td>\n",
       "      <td>1</td>\n",
       "      <td>5</td>\n",
       "      <td>Diamond</td>\n",
       "      <td>0</td>\n",
       "    </tr>\n",
       "    <tr>\n",
       "      <th>10</th>\n",
       "      <td>12357.0</td>\n",
       "      <td>33</td>\n",
       "      <td>131</td>\n",
       "      <td>6207.67</td>\n",
       "      <td>2</td>\n",
       "      <td>1</td>\n",
       "      <td>1</td>\n",
       "      <td>4</td>\n",
       "      <td>Diamond</td>\n",
       "      <td>0</td>\n",
       "    </tr>\n",
       "    <tr>\n",
       "      <th>11</th>\n",
       "      <td>12358.0</td>\n",
       "      <td>1</td>\n",
       "      <td>19</td>\n",
       "      <td>1168.06</td>\n",
       "      <td>1</td>\n",
       "      <td>3</td>\n",
       "      <td>2</td>\n",
       "      <td>6</td>\n",
       "      <td>Platinum</td>\n",
       "      <td>0</td>\n",
       "    </tr>\n",
       "    <tr>\n",
       "      <th>12</th>\n",
       "      <td>12359.0</td>\n",
       "      <td>57</td>\n",
       "      <td>245</td>\n",
       "      <td>6310.03</td>\n",
       "      <td>3</td>\n",
       "      <td>1</td>\n",
       "      <td>1</td>\n",
       "      <td>5</td>\n",
       "      <td>Diamond</td>\n",
       "      <td>0</td>\n",
       "    </tr>\n",
       "    <tr>\n",
       "      <th>13</th>\n",
       "      <td>12360.0</td>\n",
       "      <td>52</td>\n",
       "      <td>129</td>\n",
       "      <td>2662.06</td>\n",
       "      <td>3</td>\n",
       "      <td>1</td>\n",
       "      <td>1</td>\n",
       "      <td>5</td>\n",
       "      <td>Diamond</td>\n",
       "      <td>0</td>\n",
       "    </tr>\n",
       "    <tr>\n",
       "      <th>14</th>\n",
       "      <td>12361.0</td>\n",
       "      <td>287</td>\n",
       "      <td>10</td>\n",
       "      <td>189.90</td>\n",
       "      <td>4</td>\n",
       "      <td>4</td>\n",
       "      <td>4</td>\n",
       "      <td>12</td>\n",
       "      <td>Silver</td>\n",
       "      <td>2</td>\n",
       "    </tr>\n",
       "    <tr>\n",
       "      <th>15</th>\n",
       "      <td>12362.0</td>\n",
       "      <td>3</td>\n",
       "      <td>266</td>\n",
       "      <td>5226.23</td>\n",
       "      <td>1</td>\n",
       "      <td>1</td>\n",
       "      <td>1</td>\n",
       "      <td>3</td>\n",
       "      <td>Diamond</td>\n",
       "      <td>0</td>\n",
       "    </tr>\n",
       "    <tr>\n",
       "      <th>16</th>\n",
       "      <td>12363.0</td>\n",
       "      <td>109</td>\n",
       "      <td>23</td>\n",
       "      <td>552.00</td>\n",
       "      <td>3</td>\n",
       "      <td>3</td>\n",
       "      <td>3</td>\n",
       "      <td>9</td>\n",
       "      <td>Gold</td>\n",
       "      <td>0</td>\n",
       "    </tr>\n",
       "    <tr>\n",
       "      <th>17</th>\n",
       "      <td>12364.0</td>\n",
       "      <td>7</td>\n",
       "      <td>85</td>\n",
       "      <td>1313.10</td>\n",
       "      <td>1</td>\n",
       "      <td>2</td>\n",
       "      <td>2</td>\n",
       "      <td>5</td>\n",
       "      <td>Diamond</td>\n",
       "      <td>0</td>\n",
       "    </tr>\n",
       "    <tr>\n",
       "      <th>18</th>\n",
       "      <td>12365.0</td>\n",
       "      <td>291</td>\n",
       "      <td>22</td>\n",
       "      <td>641.38</td>\n",
       "      <td>4</td>\n",
       "      <td>3</td>\n",
       "      <td>3</td>\n",
       "      <td>10</td>\n",
       "      <td>Silver</td>\n",
       "      <td>2</td>\n",
       "    </tr>\n",
       "    <tr>\n",
       "      <th>19</th>\n",
       "      <td>12367.0</td>\n",
       "      <td>4</td>\n",
       "      <td>11</td>\n",
       "      <td>168.90</td>\n",
       "      <td>1</td>\n",
       "      <td>4</td>\n",
       "      <td>4</td>\n",
       "      <td>9</td>\n",
       "      <td>Gold</td>\n",
       "      <td>0</td>\n",
       "    </tr>\n",
       "  </tbody>\n",
       "</table>\n",
       "</div>"
      ],
      "text/plain": [
       "    CustomerID  Recency  Frequency  Monetory  R  F  M  RFMScore  \\\n",
       "0      12346.0      325          1  77183.60  4  4  1         9   \n",
       "1      12347.0        2        182   4310.00  1  1  1         3   \n",
       "2      12348.0       75         31   1797.24  3  3  1         7   \n",
       "3      12349.0       18         73   1757.55  2  2  1         5   \n",
       "4      12350.0      310         17    334.40  4  4  3        11   \n",
       "5      12352.0       36         85   2506.04  2  2  1         5   \n",
       "6      12353.0      204          4     89.00  4  4  4        12   \n",
       "7      12354.0      232         58   1079.40  4  2  2         8   \n",
       "8      12355.0      214         13    459.40  4  4  3        11   \n",
       "9      12356.0       22         59   2811.43  2  2  1         5   \n",
       "10     12357.0       33        131   6207.67  2  1  1         4   \n",
       "11     12358.0        1         19   1168.06  1  3  2         6   \n",
       "12     12359.0       57        245   6310.03  3  1  1         5   \n",
       "13     12360.0       52        129   2662.06  3  1  1         5   \n",
       "14     12361.0      287         10    189.90  4  4  4        12   \n",
       "15     12362.0        3        266   5226.23  1  1  1         3   \n",
       "16     12363.0      109         23    552.00  3  3  3         9   \n",
       "17     12364.0        7         85   1313.10  1  2  2         5   \n",
       "18     12365.0      291         22    641.38  4  3  3        10   \n",
       "19     12367.0        4         11    168.90  1  4  4         9   \n",
       "\n",
       "   RFM_Loyalty_level  Cluster  \n",
       "0               Gold        2  \n",
       "1            Diamond        0  \n",
       "2           Platinum        0  \n",
       "3            Diamond        0  \n",
       "4             Silver        2  \n",
       "5            Diamond        0  \n",
       "6             Silver        2  \n",
       "7               Gold        2  \n",
       "8             Silver        2  \n",
       "9            Diamond        0  \n",
       "10           Diamond        0  \n",
       "11          Platinum        0  \n",
       "12           Diamond        0  \n",
       "13           Diamond        0  \n",
       "14            Silver        2  \n",
       "15           Diamond        0  \n",
       "16              Gold        0  \n",
       "17           Diamond        0  \n",
       "18            Silver        2  \n",
       "19              Gold        0  "
      ]
     },
     "execution_count": 125,
     "metadata": {},
     "output_type": "execute_result"
    }
   ],
   "source": [
    "# # Assign Loyality level to each customer\n",
    "\n",
    "Loyalty_level = ['Diamond','Platinum','Gold','Silver']\n",
    "\n",
    "score_cuts = pd.cut(RMFScore.RFMScore, bins = 4, labels = Loyalty_level)\n",
    "\n",
    "RMFScore['RFM_Loyalty_level'] = score_cuts.values\n",
    "RMFScore.reset_index().head(20)"
   ]
  },
  {
   "cell_type": "code",
   "execution_count": 179,
   "id": "b47fe706",
   "metadata": {},
   "outputs": [
    {
     "data": {
      "text/plain": [
       "<AxesSubplot:xlabel='RFM_Loyalty_level', ylabel='count'>"
      ]
     },
     "execution_count": 179,
     "metadata": {},
     "output_type": "execute_result"
    },
    {
     "data": {
      "image/png": "[encoded data removed]",
      "text/plain": [
       "<Figure size 720x360 with 1 Axes>"
      ]
     },
     "metadata": {
      "needs_background": "light"
     },
     "output_type": "display_data"
    }
   ],
   "source": [
    "plt.figure(figsize=(10,5))\n",
    "sns.set_context(\"poster\", font_scale=0.7)\n",
    "sns.set_palette('twilight')\n",
    "sns.countplot(RMFScore['RFM_Loyalty_level'])"
   ]
  },
  {
   "cell_type": "markdown",
   "id": "6d4d6ba1",
   "metadata": {},
   "source": [
    "From the above bar graph, we can infer that \n",
    "We see that we have a lot of diamond customers which is good but we also have an equal amount of silver customers which is not good for the business.Platinum and gold level are also a fairly good amount."
   ]
  },
  {
   "cell_type": "code",
   "execution_count": 180,
   "id": "26a0a7e2",
   "metadata": {},
   "outputs": [
    {
     "data": {
      "text/html": [
       "<div>\n",
       "<style scoped>\n",
       "    .dataframe tbody tr th:only-of-type {\n",
       "        vertical-align: middle;\n",
       "    }\n",
       "\n",
       "    .dataframe tbody tr th {\n",
       "        vertical-align: top;\n",
       "    }\n",
       "\n",
       "    .dataframe thead tr th {\n",
       "        text-align: left;\n",
       "    }\n",
       "\n",
       "    .dataframe thead tr:last-of-type th {\n",
       "        text-align: right;\n",
       "    }\n",
       "</style>\n",
       "<table border=\"1\" class=\"dataframe\">\n",
       "  <thead>\n",
       "    <tr>\n",
       "      <th></th>\n",
       "      <th colspan=\"3\" halign=\"left\">Recency</th>\n",
       "      <th colspan=\"3\" halign=\"left\">Frequency</th>\n",
       "      <th colspan=\"4\" halign=\"left\">Monetory</th>\n",
       "    </tr>\n",
       "    <tr>\n",
       "      <th></th>\n",
       "      <th>mean</th>\n",
       "      <th>min</th>\n",
       "      <th>max</th>\n",
       "      <th>mean</th>\n",
       "      <th>min</th>\n",
       "      <th>max</th>\n",
       "      <th>mean</th>\n",
       "      <th>min</th>\n",
       "      <th>max</th>\n",
       "      <th>count</th>\n",
       "    </tr>\n",
       "    <tr>\n",
       "      <th>RFM_Loyalty_level</th>\n",
       "      <th></th>\n",
       "      <th></th>\n",
       "      <th></th>\n",
       "      <th></th>\n",
       "      <th></th>\n",
       "      <th></th>\n",
       "      <th></th>\n",
       "      <th></th>\n",
       "      <th></th>\n",
       "      <th></th>\n",
       "    </tr>\n",
       "  </thead>\n",
       "  <tbody>\n",
       "    <tr>\n",
       "      <th>Diamond</th>\n",
       "      <td>19.550357</td>\n",
       "      <td>0</td>\n",
       "      <td>140</td>\n",
       "      <td>225.884219</td>\n",
       "      <td>20</td>\n",
       "      <td>7676</td>\n",
       "      <td>5253.556788</td>\n",
       "      <td>316.25</td>\n",
       "      <td>280206.02</td>\n",
       "      <td>1261</td>\n",
       "    </tr>\n",
       "    <tr>\n",
       "      <th>Platinum</th>\n",
       "      <td>54.898734</td>\n",
       "      <td>0</td>\n",
       "      <td>372</td>\n",
       "      <td>66.887227</td>\n",
       "      <td>1</td>\n",
       "      <td>521</td>\n",
       "      <td>1372.870417</td>\n",
       "      <td>120.03</td>\n",
       "      <td>168472.50</td>\n",
       "      <td>869</td>\n",
       "    </tr>\n",
       "    <tr>\n",
       "      <th>Gold</th>\n",
       "      <td>87.436205</td>\n",
       "      <td>1</td>\n",
       "      <td>373</td>\n",
       "      <td>33.055616</td>\n",
       "      <td>1</td>\n",
       "      <td>123</td>\n",
       "      <td>791.103862</td>\n",
       "      <td>35.40</td>\n",
       "      <td>77183.60</td>\n",
       "      <td>917</td>\n",
       "    </tr>\n",
       "    <tr>\n",
       "      <th>Silver</th>\n",
       "      <td>191.181255</td>\n",
       "      <td>18</td>\n",
       "      <td>373</td>\n",
       "      <td>15.038730</td>\n",
       "      <td>1</td>\n",
       "      <td>84</td>\n",
       "      <td>266.465648</td>\n",
       "      <td>3.75</td>\n",
       "      <td>1542.08</td>\n",
       "      <td>1291</td>\n",
       "    </tr>\n",
       "  </tbody>\n",
       "</table>\n",
       "</div>"
      ],
      "text/plain": [
       "                      Recency            Frequency               Monetory  \\\n",
       "                         mean min  max        mean min   max         mean   \n",
       "RFM_Loyalty_level                                                           \n",
       "Diamond             19.550357   0  140  225.884219  20  7676  5253.556788   \n",
       "Platinum            54.898734   0  372   66.887227   1   521  1372.870417   \n",
       "Gold                87.436205   1  373   33.055616   1   123   791.103862   \n",
       "Silver             191.181255  18  373   15.038730   1    84   266.465648   \n",
       "\n",
       "                                            \n",
       "                      min        max count  \n",
       "RFM_Loyalty_level                           \n",
       "Diamond            316.25  280206.02  1261  \n",
       "Platinum           120.03  168472.50   869  \n",
       "Gold                35.40   77183.60   917  \n",
       "Silver               3.75    1542.08  1291  "
      ]
     },
     "execution_count": 180,
     "metadata": {},
     "output_type": "execute_result"
    }
   ],
   "source": [
    "RMFScore.groupby('RFM_Loyalty_level').agg({\n",
    "    'Recency' : ['mean', 'min','max'],\n",
    "    'Frequency' : ['mean', 'min','max'],\n",
    "    'Monetory' : ['mean','min','max','count']\n",
    "})"
   ]
  },
  {
   "cell_type": "markdown",
   "id": "c14306cc",
   "metadata": {},
   "source": [
    "We can say that 1261 customers bought 5253 worth products by shopping 225 times approximately every 19 days.\n",
    "\n",
    "They are previliged customers and  offers can be given to them.\n",
    "\n",
    "869 customers have bought 1372 worth products by shopping 66 times every 54 days. They are loyal customers.\n",
    "\n",
    "917 customers have bought 791 worth products by shopping 33 times every 87 days. Tiered pricing of products can be introduced.\n",
    "\n",
    "1291 customers have bought 266 worth products by shopping 15 times every 191 days. Personalised emails and SMS can be sent to the customers regarding the offers.More marketing strategies can be introduced to improve the frequency of orders."
   ]
  },
  {
   "cell_type": "code",
   "execution_count": 145,
   "id": "161d7ad9",
   "metadata": {},
   "outputs": [],
   "source": [
    "RMFScore=RMFScore.reset_index()"
   ]
  },
  {
   "cell_type": "code",
   "execution_count": 186,
   "id": "d3fcfea3",
   "metadata": {},
   "outputs": [],
   "source": [
    "newdata = RMFScore[['Recency', 'Frequency', 'Monetory']]"
   ]
  },
  {
   "cell_type": "code",
   "execution_count": 187,
   "id": "d065d116",
   "metadata": {},
   "outputs": [
    {
     "data": {
      "text/html": [
       "<div>\n",
       "<style scoped>\n",
       "    .dataframe tbody tr th:only-of-type {\n",
       "        vertical-align: middle;\n",
       "    }\n",
       "\n",
       "    .dataframe tbody tr th {\n",
       "        vertical-align: top;\n",
       "    }\n",
       "\n",
       "    .dataframe thead th {\n",
       "        text-align: right;\n",
       "    }\n",
       "</style>\n",
       "<table border=\"1\" class=\"dataframe\">\n",
       "  <thead>\n",
       "    <tr style=\"text-align: right;\">\n",
       "      <th></th>\n",
       "      <th>Recency</th>\n",
       "      <th>Frequency</th>\n",
       "      <th>Monetory</th>\n",
       "    </tr>\n",
       "  </thead>\n",
       "  <tbody>\n",
       "    <tr>\n",
       "      <th>0</th>\n",
       "      <td>325</td>\n",
       "      <td>1</td>\n",
       "      <td>77183.60</td>\n",
       "    </tr>\n",
       "    <tr>\n",
       "      <th>1</th>\n",
       "      <td>2</td>\n",
       "      <td>182</td>\n",
       "      <td>4310.00</td>\n",
       "    </tr>\n",
       "    <tr>\n",
       "      <th>2</th>\n",
       "      <td>75</td>\n",
       "      <td>31</td>\n",
       "      <td>1797.24</td>\n",
       "    </tr>\n",
       "    <tr>\n",
       "      <th>3</th>\n",
       "      <td>18</td>\n",
       "      <td>73</td>\n",
       "      <td>1757.55</td>\n",
       "    </tr>\n",
       "    <tr>\n",
       "      <th>4</th>\n",
       "      <td>310</td>\n",
       "      <td>17</td>\n",
       "      <td>334.40</td>\n",
       "    </tr>\n",
       "  </tbody>\n",
       "</table>\n",
       "</div>"
      ],
      "text/plain": [
       "   Recency  Frequency  Monetory\n",
       "0      325          1  77183.60\n",
       "1        2        182   4310.00\n",
       "2       75         31   1797.24\n",
       "3       18         73   1757.55\n",
       "4      310         17    334.40"
      ]
     },
     "execution_count": 187,
     "metadata": {},
     "output_type": "execute_result"
    }
   ],
   "source": [
    "newdata.head()"
   ]
  },
  {
   "cell_type": "markdown",
   "id": "c84e5a63",
   "metadata": {},
   "source": [
    "# Feature Scaling\n",
    "Since data is in different scale we need to put them in equal scale"
   ]
  },
  {
   "cell_type": "code",
   "execution_count": 151,
   "id": "9b4281b0",
   "metadata": {},
   "outputs": [
    {
     "data": {
      "text/plain": [
       "<AxesSubplot:ylabel='Monetory'>"
      ]
     },
     "execution_count": 151,
     "metadata": {},
     "output_type": "execute_result"
    },
    {
     "data": {
      "image/png": "[encoded data removed]",
      "text/plain": [
       "<Figure size 432x288 with 1 Axes>"
      ]
     },
     "metadata": {
      "needs_background": "light"
     },
     "output_type": "display_data"
    }
   ],
   "source": [
    "sns.boxplot(y = 'Monetory', data=RMFScore)"
   ]
  },
  {
   "cell_type": "markdown",
   "id": "b7ac5141",
   "metadata": {},
   "source": [
    "Since K-Means use a distance-based measure to find the similarity between data points, it’s good to standardize the data to have a standard deviation of one and a mean of zero."
   ]
  },
  {
   "cell_type": "code",
   "execution_count": 188,
   "id": "1f29e106",
   "metadata": {},
   "outputs": [
    {
     "data": {
      "text/plain": [
       "array([[ 2.32938811e+00, -3.97034578e-01,  8.36301037e+00],\n",
       "       [-9.00588115e-01,  4.05693902e-01,  2.51698905e-01],\n",
       "       [-1.70593488e-01, -2.63985659e-01, -2.79878269e-02],\n",
       "       ...,\n",
       "       [-8.50588483e-01, -3.48249975e-01, -2.08214334e-01],\n",
       "       [-8.90588188e-01,  2.79613949e+00, -3.51515172e-04],\n",
       "       [-5.00591059e-01, -9.10220638e-02, -2.35311112e-02]])"
      ]
     },
     "execution_count": 188,
     "metadata": {},
     "output_type": "execute_result"
    }
   ],
   "source": [
    "from sklearn.preprocessing import StandardScaler\n",
    "scalobj = StandardScaler()\n",
    "scaled_data = scalobj.fit_transform(newdata)\n",
    "scaled_data"
   ]
  },
  {
   "cell_type": "code",
   "execution_count": 189,
   "id": "66223e3f",
   "metadata": {},
   "outputs": [],
   "source": [
    "scaled_data = pd.DataFrame(scaled_data, columns= newdata.columns)"
   ]
  },
  {
   "cell_type": "code",
   "execution_count": 190,
   "id": "77792c96",
   "metadata": {},
   "outputs": [
    {
     "data": {
      "text/html": [
       "<div>\n",
       "<style scoped>\n",
       "    .dataframe tbody tr th:only-of-type {\n",
       "        vertical-align: middle;\n",
       "    }\n",
       "\n",
       "    .dataframe tbody tr th {\n",
       "        vertical-align: top;\n",
       "    }\n",
       "\n",
       "    .dataframe thead th {\n",
       "        text-align: right;\n",
       "    }\n",
       "</style>\n",
       "<table border=\"1\" class=\"dataframe\">\n",
       "  <thead>\n",
       "    <tr style=\"text-align: right;\">\n",
       "      <th></th>\n",
       "      <th>Recency</th>\n",
       "      <th>Frequency</th>\n",
       "      <th>Monetory</th>\n",
       "    </tr>\n",
       "  </thead>\n",
       "  <tbody>\n",
       "    <tr>\n",
       "      <th>0</th>\n",
       "      <td>2.329388</td>\n",
       "      <td>-0.397035</td>\n",
       "      <td>8.363010</td>\n",
       "    </tr>\n",
       "    <tr>\n",
       "      <th>1</th>\n",
       "      <td>-0.900588</td>\n",
       "      <td>0.405694</td>\n",
       "      <td>0.251699</td>\n",
       "    </tr>\n",
       "    <tr>\n",
       "      <th>2</th>\n",
       "      <td>-0.170593</td>\n",
       "      <td>-0.263986</td>\n",
       "      <td>-0.027988</td>\n",
       "    </tr>\n",
       "    <tr>\n",
       "      <th>3</th>\n",
       "      <td>-0.740589</td>\n",
       "      <td>-0.077717</td>\n",
       "      <td>-0.032406</td>\n",
       "    </tr>\n",
       "    <tr>\n",
       "      <th>4</th>\n",
       "      <td>2.179389</td>\n",
       "      <td>-0.326075</td>\n",
       "      <td>-0.190812</td>\n",
       "    </tr>\n",
       "  </tbody>\n",
       "</table>\n",
       "</div>"
      ],
      "text/plain": [
       "    Recency  Frequency  Monetory\n",
       "0  2.329388  -0.397035  8.363010\n",
       "1 -0.900588   0.405694  0.251699\n",
       "2 -0.170593  -0.263986 -0.027988\n",
       "3 -0.740589  -0.077717 -0.032406\n",
       "4  2.179389  -0.326075 -0.190812"
      ]
     },
     "execution_count": 190,
     "metadata": {},
     "output_type": "execute_result"
    }
   ],
   "source": [
    "scaled_data.head()"
   ]
  },
  {
   "cell_type": "markdown",
   "id": "adaf9b80",
   "metadata": {},
   "source": [
    "Build Clustering Model"
   ]
  },
  {
   "cell_type": "markdown",
   "id": "40e2d402",
   "metadata": {},
   "source": [
    "We are going to apply unsupervised machine learning to identify different groups/clusters based on segmentation of customers according to their purchasing behaviour.\n",
    "\n",
    "The overall clusters will be based on the 3 factors - recency, frequency and monetary values"
   ]
  },
  {
   "cell_type": "markdown",
   "id": "80207139",
   "metadata": {},
   "source": [
    "Next, we build models by looping over 1 to 15 clusters using the RFM values and storing the within-the-cluster-sum-of-squared-distance (wcss) of each cluster by using the inertia_ parameter of the kmeans model. Then, we plot the inertia wrt to the cluster number of all the clusters and analyze to find the elbow point using pointplot() function from the Seaborn library."
   ]
  },
  {
   "cell_type": "code",
   "execution_count": 191,
   "id": "690056d9",
   "metadata": {},
   "outputs": [
    {
     "data": {
      "image/png": "[encoded data removed]",
      "text/plain": [
       "<Figure size 432x288 with 1 Axes>"
      ]
     },
     "metadata": {},
     "output_type": "display_data"
    }
   ],
   "source": [
    "from sklearn.cluster import KMeans\n",
    "\n",
    "sum_of_sq_dist = {}\n",
    "\n",
    "for k in range(1,15):\n",
    "    km = KMeans(n_clusters = k, init='k-means++', max_iter=300)\n",
    "    km = km.fit(scaled_data)\n",
    "    sum_of_sq_dist[k] = km.inertia_\n",
    "    \n",
    "# Visualisation for getting elbow method (to find the actual k value)\n",
    "\n",
    "sns.pointplot(x = list(sum_of_sq_dist.keys()),\n",
    "             y = list(sum_of_sq_dist.values()))\n",
    "plt.xlabel(\"Number of Clusters(k)\")\n",
    "plt.ylabel(\"Sum of Square Distance(Euclidean Distance)\")\n",
    "plt.title(\"Elbow Method for Optimal K value\")\n",
    "plt.show()"
   ]
  },
  {
   "cell_type": "code",
   "execution_count": 208,
   "id": "15c981ec",
   "metadata": {},
   "outputs": [],
   "source": [
    "km = KMeans(n_clusters = 4, init='k-means++', max_iter=300)"
   ]
  },
  {
   "cell_type": "code",
   "execution_count": 209,
   "id": "ef64c830",
   "metadata": {},
   "outputs": [],
   "source": [
    "# Assign each data point to a cluster\n",
    "y_kmeans = km.fit_predict(newdata)"
   ]
  },
  {
   "cell_type": "code",
   "execution_count": 210,
   "id": "a7b7d747",
   "metadata": {},
   "outputs": [
    {
     "data": {
      "text/plain": [
       "array([1, 0, 0, ..., 0, 0, 0])"
      ]
     },
     "execution_count": 210,
     "metadata": {},
     "output_type": "execute_result"
    }
   ],
   "source": [
    "y_kmeans"
   ]
  },
  {
   "cell_type": "code",
   "execution_count": 211,
   "id": "ba15cbb8",
   "metadata": {},
   "outputs": [
    {
     "name": "stdout",
     "output_type": "stream",
     "text": [
      " Our cluster centers are as follows\n",
      "[[-5.11578975e-01  5.62831694e-02  4.06654951e-03]\n",
      " [ 1.54851341e+00 -2.80118406e-01 -1.57367753e-01]\n",
      " [-8.50588483e-01  3.26107154e+00  2.10102139e+01]\n",
      " [-9.05588078e-01  2.49543283e+01  7.63157557e+00]]\n"
     ]
    },
    {
     "data": {
      "text/html": [
       "<div>\n",
       "<style scoped>\n",
       "    .dataframe tbody tr th:only-of-type {\n",
       "        vertical-align: middle;\n",
       "    }\n",
       "\n",
       "    .dataframe tbody tr th {\n",
       "        vertical-align: top;\n",
       "    }\n",
       "\n",
       "    .dataframe thead th {\n",
       "        text-align: right;\n",
       "    }\n",
       "</style>\n",
       "<table border=\"1\" class=\"dataframe\">\n",
       "  <thead>\n",
       "    <tr style=\"text-align: right;\">\n",
       "      <th></th>\n",
       "      <th>Recency</th>\n",
       "      <th>Frequency</th>\n",
       "      <th>Monetory</th>\n",
       "    </tr>\n",
       "    <tr>\n",
       "      <th>cluster_pred</th>\n",
       "      <th></th>\n",
       "      <th></th>\n",
       "      <th></th>\n",
       "    </tr>\n",
       "  </thead>\n",
       "  <tbody>\n",
       "    <tr>\n",
       "      <th>0</th>\n",
       "      <td>3247</td>\n",
       "      <td>3247</td>\n",
       "      <td>3247</td>\n",
       "    </tr>\n",
       "    <tr>\n",
       "      <th>1</th>\n",
       "      <td>1081</td>\n",
       "      <td>1081</td>\n",
       "      <td>1081</td>\n",
       "    </tr>\n",
       "    <tr>\n",
       "      <th>2</th>\n",
       "      <td>6</td>\n",
       "      <td>6</td>\n",
       "      <td>6</td>\n",
       "    </tr>\n",
       "    <tr>\n",
       "      <th>3</th>\n",
       "      <td>4</td>\n",
       "      <td>4</td>\n",
       "      <td>4</td>\n",
       "    </tr>\n",
       "  </tbody>\n",
       "</table>\n",
       "</div>"
      ],
      "text/plain": [
       "              Recency  Frequency  Monetory\n",
       "cluster_pred                              \n",
       "0                3247       3247      3247\n",
       "1                1081       1081      1081\n",
       "2                   6          6         6\n",
       "3                   4          4         4"
      ]
     },
     "execution_count": 211,
     "metadata": {},
     "output_type": "execute_result"
    },
    {
     "data": {
      "image/png": "[encoded data removed]",
      "text/plain": [
       "<Figure size 1800x360 with 1 Axes>"
      ]
     },
     "metadata": {},
     "output_type": "display_data"
    }
   ],
   "source": [
    "clusters_scaled = newdata.copy()\n",
    "clusters_scaled['cluster_pred']=km.fit_predict(scaled_data)\n",
    "sns.set(style=\"darkgrid\")\n",
    "print(\" Our cluster centers are as follows\")\n",
    "print(km.cluster_centers_)\n",
    "f, ax = plt.subplots(figsize=(25, 5))\n",
    "ax = sns.countplot(x=\"cluster_pred\", data=clusters_scaled)\n",
    "clusters_scaled.groupby(['cluster_pred']).count()"
   ]
  },
  {
   "cell_type": "markdown",
   "id": "31720381",
   "metadata": {},
   "source": [
    "Visualizing the clusters"
   ]
  },
  {
   "cell_type": "code",
   "execution_count": 212,
   "id": "904a44b6",
   "metadata": {},
   "outputs": [
    {
     "data": {
      "image/png": "[encoded data removed]",
      "text/plain": [
       "<Figure size 432x288 with 1 Axes>"
      ]
     },
     "metadata": {},
     "output_type": "display_data"
    }
   ],
   "source": [
    "fig = plt.figure()\n",
    "ax = plt.axes(projection='3d')\n",
    "xline=clusters_scaled['Recency']\n",
    "yline=clusters_scaled['Frequency']\n",
    "zline=clusters_scaled['Monetory']\n",
    "\n",
    "ax.scatter3D(xline, zline,yline,c=clusters_scaled['cluster_pred'])\n",
    "ax.view_init(30, 60)"
   ]
  },
  {
   "cell_type": "code",
   "execution_count": 213,
   "id": "401c5477",
   "metadata": {},
   "outputs": [
    {
     "data": {
      "text/plain": [
       "4010.7737317954807"
      ]
     },
     "execution_count": 213,
     "metadata": {},
     "output_type": "execute_result"
    }
   ],
   "source": [
    "km.inertia_"
   ]
  },
  {
   "cell_type": "code",
   "execution_count": 214,
   "id": "ba075805",
   "metadata": {},
   "outputs": [
    {
     "data": {
      "text/html": [
       "<div>\n",
       "<style scoped>\n",
       "    .dataframe tbody tr th:only-of-type {\n",
       "        vertical-align: middle;\n",
       "    }\n",
       "\n",
       "    .dataframe tbody tr th {\n",
       "        vertical-align: top;\n",
       "    }\n",
       "\n",
       "    .dataframe thead th {\n",
       "        text-align: right;\n",
       "    }\n",
       "</style>\n",
       "<table border=\"1\" class=\"dataframe\">\n",
       "  <thead>\n",
       "    <tr style=\"text-align: right;\">\n",
       "      <th></th>\n",
       "      <th>CustomerID</th>\n",
       "      <th>Recency</th>\n",
       "      <th>Frequency</th>\n",
       "      <th>Monetory</th>\n",
       "      <th>R</th>\n",
       "      <th>F</th>\n",
       "      <th>M</th>\n",
       "      <th>RFMScore</th>\n",
       "      <th>RFM_Loyalty_level</th>\n",
       "      <th>Cluster</th>\n",
       "    </tr>\n",
       "  </thead>\n",
       "  <tbody>\n",
       "    <tr>\n",
       "      <th>0</th>\n",
       "      <td>12346.0</td>\n",
       "      <td>325</td>\n",
       "      <td>1</td>\n",
       "      <td>77183.60</td>\n",
       "      <td>4</td>\n",
       "      <td>4</td>\n",
       "      <td>1</td>\n",
       "      <td>9</td>\n",
       "      <td>Gold</td>\n",
       "      <td>1</td>\n",
       "    </tr>\n",
       "    <tr>\n",
       "      <th>1</th>\n",
       "      <td>12347.0</td>\n",
       "      <td>2</td>\n",
       "      <td>182</td>\n",
       "      <td>4310.00</td>\n",
       "      <td>1</td>\n",
       "      <td>1</td>\n",
       "      <td>1</td>\n",
       "      <td>3</td>\n",
       "      <td>Diamond</td>\n",
       "      <td>0</td>\n",
       "    </tr>\n",
       "    <tr>\n",
       "      <th>2</th>\n",
       "      <td>12348.0</td>\n",
       "      <td>75</td>\n",
       "      <td>31</td>\n",
       "      <td>1797.24</td>\n",
       "      <td>3</td>\n",
       "      <td>3</td>\n",
       "      <td>1</td>\n",
       "      <td>7</td>\n",
       "      <td>Platinum</td>\n",
       "      <td>0</td>\n",
       "    </tr>\n",
       "    <tr>\n",
       "      <th>3</th>\n",
       "      <td>12349.0</td>\n",
       "      <td>18</td>\n",
       "      <td>73</td>\n",
       "      <td>1757.55</td>\n",
       "      <td>2</td>\n",
       "      <td>2</td>\n",
       "      <td>1</td>\n",
       "      <td>5</td>\n",
       "      <td>Diamond</td>\n",
       "      <td>0</td>\n",
       "    </tr>\n",
       "    <tr>\n",
       "      <th>4</th>\n",
       "      <td>12350.0</td>\n",
       "      <td>310</td>\n",
       "      <td>17</td>\n",
       "      <td>334.40</td>\n",
       "      <td>4</td>\n",
       "      <td>4</td>\n",
       "      <td>3</td>\n",
       "      <td>11</td>\n",
       "      <td>Silver</td>\n",
       "      <td>1</td>\n",
       "    </tr>\n",
       "  </tbody>\n",
       "</table>\n",
       "</div>"
      ],
      "text/plain": [
       "   CustomerID  Recency  Frequency  Monetory  R  F  M  RFMScore  \\\n",
       "0     12346.0      325          1  77183.60  4  4  1         9   \n",
       "1     12347.0        2        182   4310.00  1  1  1         3   \n",
       "2     12348.0       75         31   1797.24  3  3  1         7   \n",
       "3     12349.0       18         73   1757.55  2  2  1         5   \n",
       "4     12350.0      310         17    334.40  4  4  3        11   \n",
       "\n",
       "  RFM_Loyalty_level  Cluster  \n",
       "0              Gold        1  \n",
       "1           Diamond        0  \n",
       "2          Platinum        0  \n",
       "3           Diamond        0  \n",
       "4            Silver        1  "
      ]
     },
     "execution_count": 214,
     "metadata": {},
     "output_type": "execute_result"
    }
   ],
   "source": [
    "RMFScore['Cluster'] = km.labels_\n",
    "RMFScore.head()"
   ]
  },
  {
   "cell_type": "code",
   "execution_count": 215,
   "id": "9bbfc9da",
   "metadata": {},
   "outputs": [
    {
     "name": "stdout",
     "output_type": "stream",
     "text": [
      "<class 'pandas.core.frame.DataFrame'>\n",
      "RangeIndex: 4338 entries, 0 to 4337\n",
      "Data columns (total 10 columns):\n",
      " #   Column             Non-Null Count  Dtype   \n",
      "---  ------             --------------  -----   \n",
      " 0   CustomerID         4338 non-null   float64 \n",
      " 1   Recency            4338 non-null   int64   \n",
      " 2   Frequency          4338 non-null   int32   \n",
      " 3   Monetory           4338 non-null   float64 \n",
      " 4   R                  4338 non-null   int64   \n",
      " 5   F                  4338 non-null   int64   \n",
      " 6   M                  4338 non-null   int64   \n",
      " 7   RFMScore           4338 non-null   int64   \n",
      " 8   RFM_Loyalty_level  4338 non-null   category\n",
      " 9   Cluster            4338 non-null   int32   \n",
      "dtypes: category(1), float64(2), int32(2), int64(5)\n",
      "memory usage: 275.7 KB\n"
     ]
    }
   ],
   "source": [
    "RMFScore.info()"
   ]
  },
  {
   "cell_type": "code",
   "execution_count": 216,
   "id": "90af0362",
   "metadata": {},
   "outputs": [
    {
     "data": {
      "text/html": [
       "<div>\n",
       "<style scoped>\n",
       "    .dataframe tbody tr th:only-of-type {\n",
       "        vertical-align: middle;\n",
       "    }\n",
       "\n",
       "    .dataframe tbody tr th {\n",
       "        vertical-align: top;\n",
       "    }\n",
       "\n",
       "    .dataframe thead th {\n",
       "        text-align: right;\n",
       "    }\n",
       "</style>\n",
       "<table border=\"1\" class=\"dataframe\">\n",
       "  <thead>\n",
       "    <tr style=\"text-align: right;\">\n",
       "      <th></th>\n",
       "      <th>Cluster</th>\n",
       "      <th>Recency</th>\n",
       "      <th>Frequency</th>\n",
       "      <th>Monetory</th>\n",
       "      <th>NumBuyers</th>\n",
       "    </tr>\n",
       "  </thead>\n",
       "  <tbody>\n",
       "    <tr>\n",
       "      <th>0</th>\n",
       "      <td>0</td>\n",
       "      <td>40.839544</td>\n",
       "      <td>103.257468</td>\n",
       "      <td>2086.266924</td>\n",
       "      <td>3247</td>\n",
       "    </tr>\n",
       "    <tr>\n",
       "      <th>1</th>\n",
       "      <td>1</td>\n",
       "      <td>246.716004</td>\n",
       "      <td>27.373728</td>\n",
       "      <td>634.412563</td>\n",
       "      <td>1081</td>\n",
       "    </tr>\n",
       "    <tr>\n",
       "      <th>2</th>\n",
       "      <td>2</td>\n",
       "      <td>7.000000</td>\n",
       "      <td>825.833333</td>\n",
       "      <td>190808.536667</td>\n",
       "      <td>6</td>\n",
       "    </tr>\n",
       "    <tr>\n",
       "      <th>3</th>\n",
       "      <td>3</td>\n",
       "      <td>1.500000</td>\n",
       "      <td>5717.250000</td>\n",
       "      <td>70612.247500</td>\n",
       "      <td>4</td>\n",
       "    </tr>\n",
       "  </tbody>\n",
       "</table>\n",
       "</div>"
      ],
      "text/plain": [
       "   Cluster     Recency    Frequency       Monetory  NumBuyers\n",
       "0        0   40.839544   103.257468    2086.266924       3247\n",
       "1        1  246.716004    27.373728     634.412563       1081\n",
       "2        2    7.000000   825.833333  190808.536667          6\n",
       "3        3    1.500000  5717.250000   70612.247500          4"
      ]
     },
     "execution_count": 216,
     "metadata": {},
     "output_type": "execute_result"
    }
   ],
   "source": [
    "# look at the centroids per cluster\n",
    "centroid_df = RMFScore.groupby('Cluster')[['Recency', 'Frequency', 'Monetory','CustomerID']].agg({'Recency': 'mean', 'Frequency': 'mean', 'Monetory':'mean','CustomerID':'nunique'}).reset_index()\n",
    "centroid_df = centroid_df.rename(columns = {'CustomerID':'NumBuyers'})\n",
    "centroid_df"
   ]
  },
  {
   "cell_type": "code",
   "execution_count": 217,
   "id": "580c54ec",
   "metadata": {},
   "outputs": [
    {
     "data": {
      "text/html": [
       "<div>\n",
       "<style scoped>\n",
       "    .dataframe tbody tr th:only-of-type {\n",
       "        vertical-align: middle;\n",
       "    }\n",
       "\n",
       "    .dataframe tbody tr th {\n",
       "        vertical-align: top;\n",
       "    }\n",
       "\n",
       "    .dataframe thead th {\n",
       "        text-align: right;\n",
       "    }\n",
       "</style>\n",
       "<table border=\"1\" class=\"dataframe\">\n",
       "  <thead>\n",
       "    <tr style=\"text-align: right;\">\n",
       "      <th></th>\n",
       "      <th>Cluster</th>\n",
       "      <th>Recency</th>\n",
       "      <th>Frequency</th>\n",
       "      <th>Monetory</th>\n",
       "      <th>NumBuyers</th>\n",
       "      <th>Percent</th>\n",
       "    </tr>\n",
       "  </thead>\n",
       "  <tbody>\n",
       "    <tr>\n",
       "      <th>0</th>\n",
       "      <td>0</td>\n",
       "      <td>40.839544</td>\n",
       "      <td>103.257468</td>\n",
       "      <td>2086.266924</td>\n",
       "      <td>3247</td>\n",
       "      <td>74.85</td>\n",
       "    </tr>\n",
       "    <tr>\n",
       "      <th>1</th>\n",
       "      <td>1</td>\n",
       "      <td>246.716004</td>\n",
       "      <td>27.373728</td>\n",
       "      <td>634.412563</td>\n",
       "      <td>1081</td>\n",
       "      <td>24.92</td>\n",
       "    </tr>\n",
       "    <tr>\n",
       "      <th>2</th>\n",
       "      <td>2</td>\n",
       "      <td>7.000000</td>\n",
       "      <td>825.833333</td>\n",
       "      <td>190808.536667</td>\n",
       "      <td>6</td>\n",
       "      <td>0.14</td>\n",
       "    </tr>\n",
       "    <tr>\n",
       "      <th>3</th>\n",
       "      <td>3</td>\n",
       "      <td>1.500000</td>\n",
       "      <td>5717.250000</td>\n",
       "      <td>70612.247500</td>\n",
       "      <td>4</td>\n",
       "      <td>0.09</td>\n",
       "    </tr>\n",
       "  </tbody>\n",
       "</table>\n",
       "</div>"
      ],
      "text/plain": [
       "   Cluster     Recency    Frequency       Monetory  NumBuyers  Percent\n",
       "0        0   40.839544   103.257468    2086.266924       3247    74.85\n",
       "1        1  246.716004    27.373728     634.412563       1081    24.92\n",
       "2        2    7.000000   825.833333  190808.536667          6     0.14\n",
       "3        3    1.500000  5717.250000   70612.247500          4     0.09"
      ]
     },
     "execution_count": 217,
     "metadata": {},
     "output_type": "execute_result"
    }
   ],
   "source": [
    "centroid_df['Percent'] = round(centroid_df['NumBuyers']/centroid_df.NumBuyers.sum()*100,2)\n",
    "centroid_df"
   ]
  },
  {
   "cell_type": "markdown",
   "id": "c856e661",
   "metadata": {},
   "source": [
    "From the above summary we get to know that,\n",
    "\n",
    "Cluster 3 is the most valuable group of customers with highest mean frequency (purchase most often), least mean recency (has recently purchased from the company) and the second mean monetary (high purchasing amount).But it comprises of only .09% of total data. \n",
    "Cluster 2 also very less number of percent of data though the monetary value of this cluster is highest. \n",
    "On the other hand, Cluster 1 is the group of customers with least frequency and monetary and recency values.\n",
    "Basically cluster 0 is has maximum percentage of data i.e. 74.85% with moderate frequency,recency and monetory values."
   ]
  },
  {
   "cell_type": "markdown",
   "id": "cb2be114",
   "metadata": {},
   "source": [
    "Nature of the cluster\n",
    "We need to check whether the predicted clusters are homogeneous or heterogeneous in nature."
   ]
  },
  {
   "cell_type": "code",
   "execution_count": 218,
   "id": "7c780dec",
   "metadata": {},
   "outputs": [
    {
     "data": {
      "text/plain": [
       "Cluster  RFM_Loyalty_level\n",
       "0        Diamond              1252\n",
       "         Platinum              821\n",
       "         Gold                  745\n",
       "         Silver                429\n",
       "1        Diamond                 0\n",
       "         Platinum               47\n",
       "         Gold                  172\n",
       "         Silver                862\n",
       "2        Diamond                 5\n",
       "         Platinum                1\n",
       "         Gold                    0\n",
       "         Silver                  0\n",
       "3        Diamond                 4\n",
       "         Platinum                0\n",
       "         Gold                    0\n",
       "         Silver                  0\n",
       "dtype: int64"
      ]
     },
     "execution_count": 218,
     "metadata": {},
     "output_type": "execute_result"
    }
   ],
   "source": [
    " RMFScore.groupby(['Cluster','RFM_Loyalty_level']).size()"
   ]
  },
  {
   "cell_type": "markdown",
   "id": "4a29e7ef",
   "metadata": {},
   "source": [
    "Cluster 0 is heterogenous in nature. It comprises Diamond,Platinum ,Gold and Silver customers.\n",
    "\n",
    "Cluster 1 is also heterogenous in nature. It comprises Platinum ,Gold and Silver customers.\n",
    "\n",
    "Cluster 2 is homogeneous in nature and has diamond customers in majority.\n",
    "\n",
    "Cluster 3 is homogeneous in nature and has all diamond customers."
   ]
  },
  {
   "cell_type": "markdown",
   "id": "eebf248f",
   "metadata": {},
   "source": [
    " Create the customer segments with Agglomerative algorithm by using number of clusters is suggested by elbow method.\n",
    " "
   ]
  },
  {
   "cell_type": "code",
   "execution_count": 219,
   "id": "338d6210",
   "metadata": {},
   "outputs": [],
   "source": [
    "# importing Agglomerative Clustering\n",
    "from sklearn.cluster import AgglomerativeClustering"
   ]
  },
  {
   "cell_type": "code",
   "execution_count": 220,
   "id": "8addef3b",
   "metadata": {},
   "outputs": [],
   "source": [
    "# building agglomerative clustering model\n",
    "agglo = AgglomerativeClustering(n_clusters=4, compute_distances=True).fit(scaled_data)"
   ]
  },
  {
   "cell_type": "markdown",
   "id": "33af7374",
   "metadata": {},
   "source": [
    "Visualize the clusters using the dendrogram"
   ]
  },
  {
   "cell_type": "code",
   "execution_count": 221,
   "id": "1bed82fc",
   "metadata": {},
   "outputs": [],
   "source": [
    "# importing dendrogram\n",
    "from scipy.cluster.hierarchy import dendrogram"
   ]
  },
  {
   "cell_type": "code",
   "execution_count": null,
   "id": "4f05b4d7",
   "metadata": {},
   "outputs": [],
   "source": [
    "#Next, we write a function to plot the dendrogram. "
   ]
  },
  {
   "cell_type": "code",
   "execution_count": 222,
   "id": "be2c37e6",
   "metadata": {},
   "outputs": [
    {
     "data": {
      "image/png": "[encoded data removed]",
      "text/plain": [
       "<Figure size 1080x576 with 1 Axes>"
      ]
     },
     "metadata": {},
     "output_type": "display_data"
    }
   ],
   "source": [
    "def plot_dendrogram(agglo, **kwargs):\n",
    "    \n",
    "    counts = np.zeros(agglo.children_.shape[0])\n",
    "    n_samples = len(agglo.labels_)\n",
    "    for i, merge in enumerate(agglo.children_):\n",
    "        current_count = 0\n",
    "        for child_idx in merge:\n",
    "            if child_idx < n_samples:\n",
    "                current_count += 1\n",
    "            else:\n",
    "                current_count += counts[child_idx - n_samples]\n",
    "        counts[i] = current_count\n",
    "\n",
    "    linkage_matrix = np.column_stack([agglo.children_, agglo.distances_, counts]).astype(float)\n",
    "\n",
    "    dendrogram(linkage_matrix, **kwargs)\n",
    "    \n",
    "\n",
    "plt.figure(figsize=(15,8))\n",
    "plt.title('Hierarchical Clustering Dendrogram')\n",
    "plot_dendrogram(agglo, truncate_mode='level', p=3)\n",
    "plt.show()"
   ]
  },
  {
   "cell_type": "markdown",
   "id": "874353aa",
   "metadata": {},
   "source": [
    "As we can see, as we proceed upwards, many small clusters are grouped together to form bigger clusters. If we cut the dendrogram around the 50 mark on the y-axis, we see 4 clusters - one green, one maroon and two orange."
   ]
  },
  {
   "cell_type": "markdown",
   "id": "fc09f204",
   "metadata": {},
   "source": [
    "Compare the clusters obtained using KMeans vs. Agglomeration"
   ]
  },
  {
   "cell_type": "code",
   "execution_count": 223,
   "id": "0eaba33d",
   "metadata": {},
   "outputs": [],
   "source": [
    "# creating a list of labels generated by the kmeans model\n",
    "labels_kmeans = list(km.labels_)\n",
    "\n",
    "# creating a list of labels generated by the agglomerative clustering model\n",
    "labels_agglo = list(agglo.labels_)"
   ]
  },
  {
   "cell_type": "code",
   "execution_count": 227,
   "id": "767926b5",
   "metadata": {},
   "outputs": [
    {
     "name": "stdout",
     "output_type": "stream",
     "text": [
      "Cluster 0 - KMeans:  3247\n",
      "Cluster 1 - KMeans:  1081\n",
      "Cluster 2 - KMeans:  6\n",
      "Cluster 3 - KMeans:  4\n",
      "\n",
      "Cluster 0 - Agglomerative:  3017\n",
      "Cluster 1 - Agglomerative:  4\n",
      "Cluster 2 - Agglomerative:  1313\n",
      "Cluster 3 - Agglomerative:  4\n"
     ]
    }
   ],
   "source": [
    "# printing the size of the kmeans clusters\n",
    "print('Cluster 0 - KMeans: ', labels_kmeans.count(0))\n",
    "print('Cluster 1 - KMeans: ', labels_kmeans.count(1))\n",
    "print('Cluster 2 - KMeans: ', labels_kmeans.count(2))\n",
    "print('Cluster 3 - KMeans: ', labels_kmeans.count(3))\n",
    "\n",
    "print()\n",
    "\n",
    "# printing the size of the agglomerative clusters\n",
    "print('Cluster 0 - Agglomerative: ', labels_agglo.count(0))\n",
    "print('Cluster 1 - Agglomerative: ', labels_agglo.count(1))\n",
    "print('Cluster 2 - Agglomerative: ', labels_agglo.count(2))\n",
    "print('Cluster 3 - Agglomerative: ', labels_agglo.count(3))"
   ]
  },
  {
   "cell_type": "markdown",
   "id": "af1681d0",
   "metadata": {},
   "source": [
    "As we can see, the four clusters formed by both the KMeans and Agglomerative Clustering models are roughly about the same size, although the cluster labels 1 and 2 are interchanged. From this, we can interpret that the customer segments obtained are more or less the same, no matter which algorithm we use."
   ]
  },
  {
   "cell_type": "markdown",
   "id": "15727c4f",
   "metadata": {},
   "source": [
    "Conclusion\n",
    "We made 3 kinds of segmentation, RFM quantiles ,agglomerative and K-Means clustering methods.\n",
    "\n",
    "Customers have been categorized into 4 buckets based on Recency, Frequency and Monetary value of their purchases. Targeted strategy to be applied for each customer segment.\n",
    "\n",
    "With the result,\n",
    "\n",
    "We figured out ‘best’ customers, the most profitable group.\n",
    "This also tells us on which customer group we should focus on and to whom to give special offers or promotions among the customers.\n",
    "We can select the best communication channel for each segment and improve new marketing strategies."
   ]
  },
  {
   "cell_type": "code",
   "execution_count": null,
   "id": "1331bdf2",
   "metadata": {},
   "outputs": [],
   "source": []
  },
  {
   "cell_type": "code",
   "execution_count": null,
   "id": "dee6cca6",
   "metadata": {},
   "outputs": [],
   "source": []
  },
  {
   "cell_type": "code",
   "execution_count": null,
   "id": "a85dedf5",
   "metadata": {},
   "outputs": [],
   "source": []
  },
  {
   "cell_type": "code",
   "execution_count": null,
   "id": "3bb2bc7a",
   "metadata": {},
   "outputs": [],
   "source": []
  }
 ],
 "metadata": {
  "kernelspec": {
   "display_name": "Python 3 (ipykernel)",
   "language": "python",
   "name": "python3"
  },
  "language_info": {
   "codemirror_mode": {
    "name": "ipython",
    "version": 3
   },
   "file_extension": ".py",
   "mimetype": "text/x-python",
   "name": "python",
   "nbconvert_exporter": "python",
   "pygments_lexer": "ipython3",
   "version": "3.9.12"
  }
 },
 "nbformat": 4,
 "nbformat_minor": 5
}
